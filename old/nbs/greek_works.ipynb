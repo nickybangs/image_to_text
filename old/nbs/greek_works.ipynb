{
 "cells": [
  {
   "cell_type": "code",
   "execution_count": 1,
   "metadata": {},
   "outputs": [],
   "source": [
    "from bs4 import BeautifulSoup as bs\n",
    "import re\n",
    "import requests"
   ]
  },
  {
   "cell_type": "code",
   "execution_count": 2,
   "metadata": {},
   "outputs": [],
   "source": [
    "from tqdm import tqdm_notebook"
   ]
  },
  {
   "cell_type": "code",
   "execution_count": 200,
   "metadata": {},
   "outputs": [],
   "source": [
    "base_url = 'http://catalog.perseus.org'"
   ]
  },
  {
   "cell_type": "code",
   "execution_count": 201,
   "metadata": {},
   "outputs": [],
   "source": [
    "q = 'http://catalog.perseus.org/catalog/urn:cts:greekLit:tlg0001.tlg001'\n",
    "soup = bs(requests.get(q).text)"
   ]
  },
  {
   "cell_type": "code",
   "execution_count": 216,
   "metadata": {},
   "outputs": [
    {
     "data": {
      "text/plain": [
       "769"
      ]
     },
     "execution_count": 216,
     "metadata": {},
     "output_type": "execute_result"
    }
   ],
   "source": [
    "len(author_dict)"
   ]
  },
  {
   "cell_type": "code",
   "execution_count": 206,
   "metadata": {},
   "outputs": [],
   "source": [
    "text_name = soup.find(text=re.compile('Work title:')).findNext('dd').text\n",
    "author = soup.find(text=re.compile('Author:')).findNext('dd').text"
   ]
  },
  {
   "cell_type": "code",
   "execution_count": 207,
   "metadata": {},
   "outputs": [
    {
     "data": {
      "text/plain": [
       "('Argonautica', 'Apollonius Rhodius')"
      ]
     },
     "execution_count": 207,
     "metadata": {},
     "output_type": "execute_result"
    }
   ],
   "source": [
    "text_name,author"
   ]
  },
  {
   "cell_type": "code",
   "execution_count": 219,
   "metadata": {},
   "outputs": [
    {
     "data": {
      "text/plain": [
       "{'Achilles Tatius',\n",
       " 'Aelian 3rd cent',\n",
       " 'Aeneas Tacticus 4th cent. B.C',\n",
       " 'Aeschines',\n",
       " 'Aeschylus',\n",
       " 'Andocides ca. 440-ca. 390 B.C',\n",
       " 'Antiphon ca. 480-411 B.C',\n",
       " 'Apollodorus',\n",
       " 'Apollonius Rhodius',\n",
       " 'Appianus of Alexandria',\n",
       " 'Aratus Solensis',\n",
       " 'Aretaeus of Cappadocia',\n",
       " 'Aristides, Aelius',\n",
       " 'Aristophanes',\n",
       " 'Aristotle',\n",
       " 'Arrian',\n",
       " 'Asclepiodotus',\n",
       " 'Athenaeus of Naucratis',\n",
       " 'Bacchylides',\n",
       " 'Basil Saint, Bishop of Caesarea approximately 329-379',\n",
       " 'Bion of Phlossa near Smyrna',\n",
       " 'Callimachus',\n",
       " 'Callistratus 3rd or 4th cent',\n",
       " 'Cassius Dio Cocceianus',\n",
       " 'Chariton',\n",
       " 'Clement of Alexandria, Saint approximately 150-approximately 215',\n",
       " 'Colluthus of Lycopolis',\n",
       " 'Damostratus Epigrammaticus 1. Jh. v. Chr',\n",
       " 'Demades ca. 380-319 B.C',\n",
       " 'Demetrius of Phaleron b. 350 B.C',\n",
       " 'Demosthenes',\n",
       " 'Dinarchus',\n",
       " 'Dio Chrysostom',\n",
       " 'Diodorus Siculus',\n",
       " 'Diogenes Laertius',\n",
       " 'Dionysius of Halicarnassus',\n",
       " 'Epictetus',\n",
       " 'Epistle of Barnabas',\n",
       " 'Euclid',\n",
       " 'Euripides',\n",
       " 'Eusebius of Caesarea, Bishop of Caesarea ca. 260-ca. 340',\n",
       " 'Galen',\n",
       " 'Harpocration, Valerius',\n",
       " 'Herodotus',\n",
       " 'Hesiod',\n",
       " 'Hippocrates',\n",
       " 'Homer',\n",
       " 'Homeric Hymns',\n",
       " 'Hyperides',\n",
       " 'Isaeus ca. 420-ca. 350 B.C',\n",
       " 'Isocrates',\n",
       " 'John of Damascus, Saint',\n",
       " 'Josephus, Flavius',\n",
       " 'Julian Emperor of Rome 331-363',\n",
       " 'Longinus 1st cent',\n",
       " 'Longus',\n",
       " 'Lucian of Samosata',\n",
       " 'Lycophron',\n",
       " 'Lycurgus ca. 390-ca. 324 B.C',\n",
       " 'Lysias',\n",
       " 'Marcus Aurelius Emperor of Rome 121-180',\n",
       " 'Moschus',\n",
       " 'New Testament',\n",
       " 'Nonnus of Panopolis',\n",
       " 'Onasander',\n",
       " 'Oppian fl. 2nd cent',\n",
       " 'Oppian of Apamea',\n",
       " 'Parthenius of Nicaea 1st cent. B.C',\n",
       " 'Pausanias',\n",
       " 'Philostratus b. ca. 220',\n",
       " 'Philostratus the Athenian 2nd/3rd cent',\n",
       " 'Philostratus the Lemnian 3rd cent',\n",
       " 'Pindar',\n",
       " 'Plato',\n",
       " 'Plutarch',\n",
       " 'Polybius',\n",
       " 'Procopius',\n",
       " 'Ptolemy 2nd cent',\n",
       " 'Quintus Smyrnaeus 4th cent',\n",
       " 'Sophocles',\n",
       " 'Strabo',\n",
       " 'Theocritus',\n",
       " 'Theophrastus',\n",
       " 'Thucydides',\n",
       " 'Tryphiodorus',\n",
       " 'Xenophon',\n",
       " 'Xenophon of Ephesus'}"
      ]
     },
     "execution_count": 219,
     "metadata": {},
     "output_type": "execute_result"
    }
   ],
   "source": [
    "{author_dict[k][0] for k in author_dict}"
   ]
  },
  {
   "cell_type": "code",
   "execution_count": 208,
   "metadata": {},
   "outputs": [],
   "source": [
    "author_dict = dict()"
   ]
  },
  {
   "cell_type": "code",
   "execution_count": 210,
   "metadata": {},
   "outputs": [],
   "source": [
    "for q in [q for q in qfs if 'perseus' in qfs[q]]:\n",
    "    soup = bs(requests.get(base_url+q).text)\n",
    "    text_name = soup.find(text=re.compile('Work title:')).findNext('dd').text\n",
    "    author = soup.find(text=re.compile('Author:')).findNext('dd').text\n",
    "    author_dict[qfs[q]] = (author, text_name)"
   ]
  },
  {
   "cell_type": "code",
   "execution_count": null,
   "metadata": {},
   "outputs": [],
   "source": [
    "hrefs = []\n",
    "for i in tqdm_notebook(range(1,31)):\n",
    "    search_url = f'/?f%5Bwork_lang%5D%5B%5D=grc&amp;page={i}&amp;per_page=100&amp;results_view=true'\n",
    "    resp = requests.get(base_url + search_url)\n",
    "    soup = bs(resp.text)\n",
    "    hrefs += [a['href'] for a in soup.findAll(\"a\", {'data-counter': re.compile('[0-9]+')})]"
   ]
  },
  {
   "cell_type": "code",
   "execution_count": 26,
   "metadata": {},
   "outputs": [],
   "source": [
    "qfs = dict()"
   ]
  },
  {
   "cell_type": "code",
   "execution_count": null,
   "metadata": {},
   "outputs": [],
   "source": [
    "for h in tqdm_notebook(hrefs):\n",
    "    resp = requests.get(base_url + h)\n",
    "    soup = bs(resp.text)\n",
    "    try:\n",
    "        qfs[h] = soup.find(text=re.compile('Quick-Find')).parent.parent.find('a')['href']\n",
    "    except:\n",
    "        qfs[h] = 'missing'"
   ]
  },
  {
   "cell_type": "code",
   "execution_count": 33,
   "metadata": {},
   "outputs": [
    {
     "data": {
      "text/plain": [
       "57"
      ]
     },
     "execution_count": 33,
     "metadata": {},
     "output_type": "execute_result"
    }
   ],
   "source": [
    "len([h for h in qfs if qfs[h] == 'missing'])"
   ]
  },
  {
   "cell_type": "code",
   "execution_count": 34,
   "metadata": {},
   "outputs": [
    {
     "data": {
      "text/plain": [
       "'/catalog/urn:cts:greekLit:tlg0549.tlgx01'"
      ]
     },
     "execution_count": 34,
     "metadata": {},
     "output_type": "execute_result"
    }
   ],
   "source": [
    "[h for h in qfs if qfs[h] == 'missing'][0]"
   ]
  },
  {
   "cell_type": "code",
   "execution_count": 17,
   "metadata": {},
   "outputs": [],
   "source": [
    "import yaml\n",
    "import numpy as np"
   ]
  },
  {
   "cell_type": "code",
   "execution_count": 37,
   "metadata": {},
   "outputs": [],
   "source": [
    "# with open('../yaml/greek_texts.yaml', 'w') as f:\n",
    "#     yaml.dump(qfs, f)"
   ]
  },
  {
   "cell_type": "code",
   "execution_count": 5,
   "metadata": {},
   "outputs": [],
   "source": [
    "with open('../yaml/greek_texts.yaml') as f:\n",
    "    qfs = yaml.load(f)"
   ]
  },
  {
   "cell_type": "code",
   "execution_count": 78,
   "metadata": {},
   "outputs": [
    {
     "data": {
      "text/plain": [
       "'http://digital.slub-dresden.de/werkansicht/dlf/110497/275/'"
      ]
     },
     "execution_count": 78,
     "metadata": {},
     "output_type": "execute_result"
    }
   ],
   "source": [
    "np.random.choice([qfs[q] for q in qfs if 'perseus' not in qfs[q]])"
   ]
  },
  {
   "cell_type": "code",
   "execution_count": 83,
   "metadata": {},
   "outputs": [
    {
     "data": {
      "text/plain": [
       "769"
      ]
     },
     "execution_count": 83,
     "metadata": {},
     "output_type": "execute_result"
    }
   ],
   "source": [
    "perseus_urls = [qfs[q] for q in qfs if 'perseus' in qfs[q]]; len(perseus_urls)"
   ]
  },
  {
   "cell_type": "code",
   "execution_count": 85,
   "metadata": {},
   "outputs": [],
   "source": [
    "import clipboard\n",
    "from fastai.core import Path\n",
    "import os"
   ]
  },
  {
   "cell_type": "code",
   "execution_count": 86,
   "metadata": {},
   "outputs": [],
   "source": [
    "clipboard.copy(perseus_urls[0])"
   ]
  },
  {
   "cell_type": "code",
   "execution_count": 130,
   "metadata": {},
   "outputs": [],
   "source": [
    "base_url = 'http://www.perseus.tufts.edu/hopper/'\n",
    "text_url = base_url + 'text.jsp'"
   ]
  },
  {
   "cell_type": "code",
   "execution_count": 133,
   "metadata": {},
   "outputs": [],
   "source": [
    "text_path = Path('../text/greek/'); os.system('mkdir -p {}'.format(text_path))"
   ]
  },
  {
   "cell_type": "code",
   "execution_count": null,
   "metadata": {},
   "outputs": [],
   "source": [
    "content_dict = dict()"
   ]
  },
  {
   "cell_type": "code",
   "execution_count": 156,
   "metadata": {},
   "outputs": [],
   "source": [
    "resp = requests.get(perseus_urls[0])\n",
    "soup = bs(resp.text)"
   ]
  },
  {
   "cell_type": "code",
   "execution_count": 173,
   "metadata": {},
   "outputs": [
    {
     "data": {
      "text/plain": [
       "['/catalog/urn:cts:greekLit:tlg0001.tlg001']"
      ]
     },
     "execution_count": 173,
     "metadata": {},
     "output_type": "execute_result"
    }
   ],
   "source": [
    "[q for q in qfs if qfs[q] == perseus_urls[0]]"
   ]
  },
  {
   "cell_type": "code",
   "execution_count": 170,
   "metadata": {},
   "outputs": [
    {
     "data": {
      "text/plain": [
       "'Argonautica'"
      ]
     },
     "execution_count": 170,
     "metadata": {},
     "output_type": "execute_result"
    }
   ],
   "source": [
    "soup.find('div',{'id':'header_text'}).find('span').text.strip()"
   ]
  },
  {
   "cell_type": "code",
   "execution_count": null,
   "metadata": {},
   "outputs": [],
   "source": [
    "for url in tqdm_notebook(perseus_urls):\n",
    "    resp = requests.get(url)\n",
    "    soup = bs(resp.text)\n",
    "    text_name = \n",
    "    contents_url = soup.find('a', {'class':'xml'})['href']\n",
    "    contents = bs(requests.get(base_url + contents_url).text)\n",
    "    \n",
    "    books = [a['href'] for a in soup.find('div', {'id':'text_navbars'}).findAll('a', text=re.compile('book'))]\n",
    "    content_dict[url]['book'] = len(contents.findAll('chunk',{'type': 'book'})), len(books)\n",
    "    content_lines = len(contents.findAll('chunk',{'type': 'card'})),len(lines)\n",
    "    lines = 0\n",
    "    for bk in books:\n",
    "        book_url = text_url + bk\n",
    "        book_soup = bs(requests.get(book_url).text)\n",
    "        lines = [a['href'] for a in book_soup.find('div', {'id':'text_navbars'}).findAll('a', text=re.compile('lines'))]\n",
    "        for line in lines:\n",
    "            lines_soup = bs(requests.get(text_url+line).text)\n",
    "            xml_url = lines_soup.find('div', { 'id': 'footer_nav'}).find('a', {'class':'xml'})['href']\n",
    "            !curl base_url + xml_url ../text/greek/text.xml"
   ]
  },
  {
   "cell_type": "code",
   "execution_count": 152,
   "metadata": {},
   "outputs": [
    {
     "data": {
      "text/plain": [
       "'<?xml version=\"1.0\" encoding=\"utf-8\"?>\\n<contents ref=\"Perseus:text:1999.01.0227\" lang=\"en\">\\r\\n  <chunk pos=\"1\" start=\"3925\" end=\"118098\" type=\"book\" n=\"1\" ref=\"Perseus%3Atext%3A1999.01.0227%3Abook%3D1\">\\r\\n    <head>book 1</head>\\r\\n    <chunk pos=\"1\" start=\"4001\" end=\"8134\" type=\"card\" n=\"1\" ref=\"Perseus%3Atext%3A1999.01.0227%3Abook%3D1%3Acard%3D1\">\\r\\n      <head>lines 1-50</head>\\r\\n    </chunk>\\r\\n    <chunk pos=\"2\" start=\"8134\" end=\"12704\" type=\"card\" n=\"51\" ref=\"Perseus%3Atext%3A1999.01.0227%3Abook%3D1%3Acard%3D51\">\\r\\n      <head>lines 51-104</head>\\r\\n    </chunk>\\r\\n    <chunk pos=\"3\" start=\"12704\" end=\"17006\" type=\"card\" n=\"105\" ref=\"Perseus%3Atext%3A1999.01.0227%3Abook%3D1%3Acard%3D105\">\\r\\n      <head>lines 105-155</head>\\r\\n    </chunk>\\r\\n    <chunk pos=\"4\" start=\"17006\" end=\"21303\" type=\"card\" n=\"156\" ref=\"Perseus%3Atext%3A1999.01.0227%3Abook%3D1%3Acard%3D156\">\\r\\n      <head>lines 156-206</head>\\r\\n    </chunk>\\r\\n    <chunk pos=\"5\" start=\"21303\" end=\"25870\" type=\"card\" n=\"207\" ref=\"Perseus%3Atext%3A1999.01.0227%3Abook%3D1%3Acard%3D207\">\\r\\n      <head>lines 207-259</head>\\r\\n    </chunk>\\r\\n    <chunk pos=\"6\" start=\"25870\" end=\"30666\" type=\"card\" n=\"260\" ref=\"Perseus%3Atext%3A1999.01.0227%3Abook%3D1%3Acard%3D260\">\\r\\n      <head>lines 260-316</head>\\r\\n    </chunk>\\r\\n    <chunk pos=\"7\" start=\"30666\" end=\"37163\" type=\"card\" n=\"317\" ref=\"Perseus%3Atext%3A1999.01.0227%3Abook%3D1%3Acard%3D317\">\\r\\n      <head>lines 317-393</head>\\r\\n    </chunk>\\r\\n    <chunk pos=\"8\" start=\"37163\" end=\"41722\" type=\"card\" n=\"394\" ref=\"Perseus%3Atext%3A1999.01.0227%3Abook%3D1%3Acard%3D394\">\\r\\n      <head>lines 394-447</head>\\r\\n    </chunk>\\r\\n    <chunk pos=\"9\" start=\"41722\" end=\"47216\" type=\"card\" n=\"448\" ref=\"Perseus%3Atext%3A1999.01.0227%3Abook%3D1%3Acard%3D448\">\\r\\n      <head>lines 448-511</head>\\r\\n    </chunk>\\r\\n    <chunk pos=\"10\" start=\"47216\" end=\"52787\" type=\"card\" n=\"512\" ref=\"Perseus%3Atext%3A1999.01.0227%3Abook%3D1%3Acard%3D512\">\\r\\n      <head>lines 512-579</head>\\r\\n    </chunk>\\r\\n    <chunk pos=\"11\" start=\"52787\" end=\"57697\" type=\"card\" n=\"580\" ref=\"Perseus%3Atext%3A1999.01.0227%3Abook%3D1%3Acard%3D580\">\\r\\n      <head>lines 580-639</head>\\r\\n    </chunk>\\r\\n    <chunk pos=\"12\" start=\"57697\" end=\"62506\" type=\"card\" n=\"640\" ref=\"Perseus%3Atext%3A1999.01.0227%3Abook%3D1%3Acard%3D640\">\\r\\n      <head>lines 640-696</head>\\r\\n    </chunk>\\r\\n    <chunk pos=\"13\" start=\"62506\" end=\"66884\" type=\"card\" n=\"697\" ref=\"Perseus%3Atext%3A1999.01.0227%3Abook%3D1%3Acard%3D697\">\\r\\n      <head>lines 697-746</head>\\r\\n    </chunk>\\r\\n    <chunk pos=\"14\" start=\"66884\" end=\"74132\" type=\"card\" n=\"747\" ref=\"Perseus%3Atext%3A1999.01.0227%3Abook%3D1%3Acard%3D747\">\\r\\n      <head>lines 747-833</head>\\r\\n    </chunk>\\r\\n    <chunk pos=\"15\" start=\"74132\" end=\"78695\" type=\"card\" n=\"834\" ref=\"Perseus%3Atext%3A1999.01.0227%3Abook%3D1%3Acard%3D834\">\\r\\n      <head>lines 834-887</head>\\r\\n    </chunk>\\r\\n    <chunk pos=\"16\" start=\"78695\" end=\"84821\" type=\"card\" n=\"888\" ref=\"Perseus%3Atext%3A1999.01.0227%3Abook%3D1%3Acard%3D888\">\\r\\n      <head>lines 888-960</head>\\r\\n    </chunk>\\r\\n    <chunk pos=\"17\" start=\"84821\" end=\"88991\" type=\"card\" n=\"961\" ref=\"Perseus%3Atext%3A1999.01.0227%3Abook%3D1%3Acard%3D961\">\\r\\n      <head>lines 961-1011</head>\\r\\n    </chunk>\\r\\n    <chunk pos=\"18\" start=\"88991\" end=\"94358\" type=\"card\" n=\"1012\" ref=\"Perseus%3Atext%3A1999.01.0227%3Abook%3D1%3Acard%3D1012\">\\r\\n      <head>lines 1012-1077</head>\\r\\n    </chunk>\\r\\n    <chunk pos=\"19\" start=\"94358\" end=\"100482\" type=\"card\" n=\"1078\" ref=\"Perseus%3Atext%3A1999.01.0227%3Abook%3D1%3Acard%3D1078\">\\r\\n      <head>lines 1078-1152</head>\\r\\n    </chunk>\\r\\n    <chunk pos=\"20\" start=\"100482\" end=\"104950\" type=\"card\" n=\"1153\" ref=\"Perseus%3Atext%3A1999.01.0227%3Abook%3D1%3Acard%3D1153\">\\r\\n      <head>lines 1153-1206</head>\\r\\n    </chunk>\\r\\n    <chunk pos=\"21\" start=\"104950\" end=\"109080\" type=\"card\" n=\"1207\" ref=\"Perseus%3Atext%3A1999.01.0227%3Abook%3D1%3Acard%3D1207\">\\r\\n      <head>lines 1207-1256</head>\\r\\n    </chunk>\\r\\n    <chunk pos=\"22\" start=\"109080\" end=\"113943\" type=\"card\" n=\"1257\" ref=\"Perseus%3Atext%3A1999.01.0227%3Abook%3D1%3Acard%3D1257\">\\r\\n      <head>lines 1257-1314</head>\\r\\n    </chunk>\\r\\n    <chunk pos=\"23\" start=\"113943\" end=\"118098\" type=\"card\" n=\"1315\" ref=\"Perseus%3Atext%3A1999.01.0227%3Abook%3D1%3Acard%3D1315\">\\r\\n      <head>lines 1315ff.</head>\\r\\n    </chunk>\\r\\n  </chunk>\\r\\n  <chunk pos=\"2\" start=\"118111\" end=\"225509\" type=\"book\" n=\"2\" ref=\"Perseus%3Atext%3A1999.01.0227%3Abook%3D2\">\\r\\n    <head>book 2</head>\\r\\n    <chunk pos=\"24\" start=\"118187\" end=\"122722\" type=\"card\" n=\"1\" ref=\"Perseus%3Atext%3A1999.01.0227%3Abook%3D2%3Acard%3D1\">\\r\\n      <head>lines 1-54</head>\\r\\n    </chunk>\\r\\n    <chunk pos=\"25\" start=\"122722\" end=\"130116\" type=\"card\" n=\"55\" ref=\"Perseus%3Atext%3A1999.01.0227%3Abook%3D2%3Acard%3D55\">\\r\\n      <head>lines 55-144</head>\\r\\n    </chunk>\\r\\n    <chunk pos=\"26\" start=\"130116\" end=\"135415\" type=\"card\" n=\"145\" ref=\"Perseus%3Atext%3A1999.01.0227%3Abook%3D2%3Acard%3D145\">\\r\\n      <head>lines 145-208</head>\\r\\n    </chunk>\\r\\n    <chunk pos=\"27\" start=\"135415\" end=\"139996\" type=\"card\" n=\"209\" ref=\"Perseus%3Atext%3A1999.01.0227%3Abook%3D2%3Acard%3D209\">\\r\\n      <head>lines 209-261</head>\\r\\n    </chunk>\\r\\n    <chunk pos=\"28\" start=\"139996\" end=\"144617\" type=\"card\" n=\"262\" ref=\"Perseus%3Atext%3A1999.01.0227%3Abook%3D2%3Acard%3D262\">\\r\\n      <head>lines 262-316</head>\\r\\n    </chunk>\\r\\n    <chunk pos=\"29\" start=\"144617\" end=\"152068\" type=\"card\" n=\"317\" ref=\"Perseus%3Atext%3A1999.01.0227%3Abook%3D2%3Acard%3D317\">\\r\\n      <head>lines 317-409</head>\\r\\n    </chunk>\\r\\n    <chunk pos=\"30\" start=\"152068\" end=\"157313\" type=\"card\" n=\"410\" ref=\"Perseus%3Atext%3A1999.01.0227%3Abook%3D2%3Acard%3D410\">\\r\\n      <head>lines 410-469</head>\\r\\n    </chunk>\\r\\n    <chunk pos=\"31\" start=\"157313\" end=\"162253\" type=\"card\" n=\"470\" ref=\"Perseus%3Atext%3A1999.01.0227%3Abook%3D2%3Acard%3D470\">\\r\\n      <head>lines 470-529</head>\\r\\n    </chunk>\\r\\n    <chunk pos=\"32\" start=\"162253\" end=\"169046\" type=\"card\" n=\"530\" ref=\"Perseus%3Atext%3A1999.01.0227%3Abook%3D2%3Acard%3D530\">\\r\\n      <head>lines 530-612</head>\\r\\n    </chunk>\\r\\n    <chunk pos=\"33\" start=\"169046\" end=\"173925\" type=\"card\" n=\"613\" ref=\"Perseus%3Atext%3A1999.01.0227%3Abook%3D2%3Acard%3D613\">\\r\\n      <head>lines 613-670</head>\\r\\n    </chunk>\\r\\n    <chunk pos=\"34\" start=\"173925\" end=\"178135\" type=\"card\" n=\"671\" ref=\"Perseus%3Atext%3A1999.01.0227%3Abook%3D2%3Acard%3D671\">\\r\\n      <head>lines 671-721</head>\\r\\n    </chunk>\\r\\n    <chunk pos=\"35\" start=\"178135\" end=\"182484\" type=\"card\" n=\"722\" ref=\"Perseus%3Atext%3A1999.01.0227%3Abook%3D2%3Acard%3D722\">\\r\\n      <head>lines 722-775</head>\\r\\n    </chunk>\\r\\n    <chunk pos=\"36\" start=\"182484\" end=\"187532\" type=\"card\" n=\"776\" ref=\"Perseus%3Atext%3A1999.01.0227%3Abook%3D2%3Acard%3D776\">\\r\\n      <head>lines 776-836</head>\\r\\n    </chunk>\\r\\n    <chunk pos=\"37\" start=\"187532\" end=\"191729\" type=\"card\" n=\"837\" ref=\"Perseus%3Atext%3A1999.01.0227%3Abook%3D2%3Acard%3D837\">\\r\\n      <head>lines 837-886</head>\\r\\n    </chunk>\\r\\n    <chunk pos=\"38\" start=\"191729\" end=\"196835\" type=\"card\" n=\"887\" ref=\"Perseus%3Atext%3A1999.01.0227%3Abook%3D2%3Acard%3D887\">\\r\\n      <head>lines 887-947</head>\\r\\n    </chunk>\\r\\n    <chunk pos=\"39\" start=\"196835\" end=\"201449\" type=\"card\" n=\"948\" ref=\"Perseus%3Atext%3A1999.01.0227%3Abook%3D2%3Acard%3D948\">\\r\\n      <head>lines 948-1003</head>\\r\\n    </chunk>\\r\\n    <chunk pos=\"40\" start=\"201449\" end=\"206923\" type=\"card\" n=\"1004\" ref=\"Perseus%3Atext%3A1999.01.0227%3Abook%3D2%3Acard%3D1004\">\\r\\n      <head>lines 1004-1069</head>\\r\\n    </chunk>\\r\\n    <chunk pos=\"41\" start=\"206923\" end=\"211481\" type=\"card\" n=\"1070\" ref=\"Perseus%3Atext%3A1999.01.0227%3Abook%3D2%3Acard%3D1070\">\\r\\n      <head>lines 1070-1124</head>\\r\\n    </chunk>\\r\\n    <chunk pos=\"42\" start=\"211481\" end=\"216280\" type=\"card\" n=\"1125\" ref=\"Perseus%3Atext%3A1999.01.0227%3Abook%3D2%3Acard%3D1125\">\\r\\n      <head>lines 1125-1180</head>\\r\\n    </chunk>\\r\\n    <chunk pos=\"43\" start=\"216280\" end=\"220799\" type=\"card\" n=\"1181\" ref=\"Perseus%3Atext%3A1999.01.0227%3Abook%3D2%3Acard%3D1181\">\\r\\n      <head>lines 1181-1232</head>\\r\\n    </chunk>\\r\\n    <chunk pos=\"44\" start=\"220799\" end=\"225016\" type=\"card\" n=\"1233\" ref=\"Perseus%3Atext%3A1999.01.0227%3Abook%3D2%3Acard%3D1233\">\\r\\n      <head>lines 1233-1282</head>\\r\\n    </chunk>\\r\\n    <chunk pos=\"45\" start=\"225016\" end=\"225509\" type=\"card\" n=\"1283\" ref=\"Perseus%3Atext%3A1999.01.0227%3Abook%3D2%3Acard%3D1283\">\\r\\n      <head>lines 1283ff.</head>\\r\\n    </chunk>\\r\\n  </chunk>\\r\\n  <chunk pos=\"3\" start=\"225522\" end=\"343689\" type=\"book\" n=\"3\" ref=\"Perseus%3Atext%3A1999.01.0227%3Abook%3D3\">\\r\\n    <head>book 3</head>\\r\\n    <chunk pos=\"46\" start=\"225598\" end=\"229985\" type=\"card\" n=\"1\" ref=\"Perseus%3Atext%3A1999.01.0227%3Abook%3D3%3Acard%3D1\">\\r\\n      <head>lines 1-51</head>\\r\\n    </chunk>\\r\\n    <chunk pos=\"47\" start=\"229985\" end=\"234647\" type=\"card\" n=\"52\" ref=\"Perseus%3Atext%3A1999.01.0227%3Abook%3D3%3Acard%3D52\">\\r\\n      <head>lines 52-105</head>\\r\\n    </chunk>\\r\\n    <chunk pos=\"48\" start=\"234647\" end=\"239898\" type=\"card\" n=\"106\" ref=\"Perseus%3Atext%3A1999.01.0227%3Abook%3D3%3Acard%3D106\">\\r\\n      <head>lines 106-166</head>\\r\\n    </chunk>\\r\\n    <chunk pos=\"49\" start=\"239898\" end=\"247506\" type=\"card\" n=\"167\" ref=\"Perseus%3Atext%3A1999.01.0227%3Abook%3D3%3Acard%3D167\">\\r\\n      <head>lines 167-259</head>\\r\\n    </chunk>\\r\\n    <chunk pos=\"50\" start=\"247506\" end=\"252289\" type=\"card\" n=\"260\" ref=\"Perseus%3Atext%3A1999.01.0227%3Abook%3D3%3Acard%3D260\">\\r\\n      <head>lines 260-316</head>\\r\\n    </chunk>\\r\\n    <chunk pos=\"51\" start=\"252289\" end=\"256457\" type=\"card\" n=\"317\" ref=\"Perseus%3Atext%3A1999.01.0227%3Abook%3D3%3Acard%3D317\">\\r\\n      <head>lines 317-366</head>\\r\\n    </chunk>\\r\\n    <chunk pos=\"52\" start=\"256457\" end=\"261198\" type=\"card\" n=\"367\" ref=\"Perseus%3Atext%3A1999.01.0227%3Abook%3D3%3Acard%3D367\">\\r\\n      <head>lines 367-421</head>\\r\\n    </chunk>\\r\\n    <chunk pos=\"53\" start=\"261198\" end=\"265793\" type=\"card\" n=\"422\" ref=\"Perseus%3Atext%3A1999.01.0227%3Abook%3D3%3Acard%3D422\">\\r\\n      <head>lines 422-474</head>\\r\\n    </chunk>\\r\\n    <chunk pos=\"54\" start=\"265793\" end=\"271403\" type=\"card\" n=\"475\" ref=\"Perseus%3Atext%3A1999.01.0227%3Abook%3D3%3Acard%3D475\">\\r\\n      <head>lines 475-539</head>\\r\\n    </chunk>\\r\\n    <chunk pos=\"55\" start=\"271403\" end=\"277161\" type=\"card\" n=\"540\" ref=\"Perseus%3Atext%3A1999.01.0227%3Abook%3D3%3Acard%3D540\">\\r\\n      <head>lines 540-608</head>\\r\\n    </chunk>\\r\\n    <chunk pos=\"56\" start=\"277161\" end=\"282547\" type=\"card\" n=\"609\" ref=\"Perseus%3Atext%3A1999.01.0227%3Abook%3D3%3Acard%3D609\">\\r\\n      <head>lines 609-673</head>\\r\\n    </chunk>\\r\\n    <chunk pos=\"57\" start=\"282547\" end=\"287004\" type=\"card\" n=\"674\" ref=\"Perseus%3Atext%3A1999.01.0227%3Abook%3D3%3Acard%3D674\">\\r\\n      <head>lines 674-723</head>\\r\\n    </chunk>\\r\\n    <chunk pos=\"58\" start=\"287004\" end=\"293493\" type=\"card\" n=\"724\" ref=\"Perseus%3Atext%3A1999.01.0227%3Abook%3D3%3Acard%3D724\">\\r\\n      <head>lines 724-800</head>\\r\\n    </chunk>\\r\\n    <chunk pos=\"59\" start=\"293493\" end=\"300654\" type=\"card\" n=\"801\" ref=\"Perseus%3Atext%3A1999.01.0227%3Abook%3D3%3Acard%3D801\">\\r\\n      <head>lines 801-889</head>\\r\\n    </chunk>\\r\\n    <chunk pos=\"60\" start=\"300654\" end=\"305516\" type=\"card\" n=\"890\" ref=\"Perseus%3Atext%3A1999.01.0227%3Abook%3D3%3Acard%3D890\">\\r\\n      <head>lines 890-945</head>\\r\\n    </chunk>\\r\\n    <chunk pos=\"61\" start=\"305516\" end=\"310535\" type=\"card\" n=\"946\" ref=\"Perseus%3Atext%3A1999.01.0227%3Abook%3D3%3Acard%3D946\">\\r\\n      <head>lines 946-1006</head>\\r\\n    </chunk>\\r\\n    <chunk pos=\"62\" start=\"310535\" end=\"315065\" type=\"card\" n=\"1007\" ref=\"Perseus%3Atext%3A1999.01.0227%3Abook%3D3%3Acard%3D1007\">\\r\\n      <head>lines 1007-1061</head>\\r\\n    </chunk>\\r\\n    <chunk pos=\"63\" start=\"315065\" end=\"319744\" type=\"card\" n=\"1062\" ref=\"Perseus%3Atext%3A1999.01.0227%3Abook%3D3%3Acard%3D1062\">\\r\\n      <head>lines 1062-1116</head>\\r\\n    </chunk>\\r\\n    <chunk pos=\"64\" start=\"319744\" end=\"325905\" type=\"card\" n=\"1117\" ref=\"Perseus%3Atext%3A1999.01.0227%3Abook%3D3%3Acard%3D1117\">\\r\\n      <head>lines 1117-1189</head>\\r\\n    </chunk>\\r\\n    <chunk pos=\"65\" start=\"325905\" end=\"330455\" type=\"card\" n=\"1190\" ref=\"Perseus%3Atext%3A1999.01.0227%3Abook%3D3%3Acard%3D1190\">\\r\\n      <head>lines 1190-1244</head>\\r\\n    </chunk>\\r\\n    <chunk pos=\"66\" start=\"330455\" end=\"343689\" type=\"card\" n=\"1245\" ref=\"Perseus%3Atext%3A1999.01.0227%3Abook%3D3%3Acard%3D1245\">\\r\\n      <head>lines 1245ff.</head>\\r\\n    </chunk>\\r\\n  </chunk>\\r\\n  <chunk pos=\"4\" start=\"343702\" end=\"491500\" type=\"book\" n=\"4\" ref=\"Perseus%3Atext%3A1999.01.0227%3Abook%3D4\">\\r\\n    <head>book 4</head>\\r\\n    <chunk pos=\"67\" start=\"343778\" end=\"348429\" type=\"card\" n=\"1\" ref=\"Perseus%3Atext%3A1999.01.0227%3Abook%3D4%3Acard%3D1\">\\r\\n      <head>lines 1-56</head>\\r\\n    </chunk>\\r\\n    <chunk pos=\"68\" start=\"348429\" end=\"352860\" type=\"card\" n=\"57\" ref=\"Perseus%3Atext%3A1999.01.0227%3Abook%3D4%3Acard%3D57\">\\r\\n      <head>lines 57-108</head>\\r\\n    </chunk>\\r\\n    <chunk pos=\"69\" start=\"352860\" end=\"358791\" type=\"card\" n=\"109\" ref=\"Perseus%3Atext%3A1999.01.0227%3Abook%3D4%3Acard%3D109\">\\r\\n      <head>lines 109-182</head>\\r\\n    </chunk>\\r\\n    <chunk pos=\"70\" start=\"358791\" end=\"363205\" type=\"card\" n=\"183\" ref=\"Perseus%3Atext%3A1999.01.0227%3Abook%3D4%3Acard%3D183\">\\r\\n      <head>lines 183-235</head>\\r\\n    </chunk>\\r\\n    <chunk pos=\"71\" start=\"363205\" end=\"367999\" type=\"card\" n=\"236\" ref=\"Perseus%3Atext%3A1999.01.0227%3Abook%3D4%3Acard%3D236\">\\r\\n      <head>lines 236-293</head>\\r\\n    </chunk>\\r\\n    <chunk pos=\"72\" start=\"367999\" end=\"372636\" type=\"card\" n=\"294\" ref=\"Perseus%3Atext%3A1999.01.0227%3Abook%3D4%3Acard%3D294\">\\r\\n      <head>lines 294-349</head>\\r\\n    </chunk>\\r\\n    <chunk pos=\"73\" start=\"372636\" end=\"377668\" type=\"card\" n=\"350\" ref=\"Perseus%3Atext%3A1999.01.0227%3Abook%3D4%3Acard%3D350\">\\r\\n      <head>lines 350-409</head>\\r\\n    </chunk>\\r\\n    <chunk pos=\"74\" start=\"377668\" end=\"383636\" type=\"card\" n=\"410\" ref=\"Perseus%3Atext%3A1999.01.0227%3Abook%3D4%3Acard%3D410\">\\r\\n      <head>lines 410-481</head>\\r\\n    </chunk>\\r\\n    <chunk pos=\"75\" start=\"383636\" end=\"389284\" type=\"card\" n=\"482\" ref=\"Perseus%3Atext%3A1999.01.0227%3Abook%3D4%3Acard%3D482\">\\r\\n      <head>lines 482-549</head>\\r\\n    </chunk>\\r\\n    <chunk pos=\"76\" start=\"389284\" end=\"395378\" type=\"card\" n=\"550\" ref=\"Perseus%3Atext%3A1999.01.0227%3Abook%3D4%3Acard%3D550\">\\r\\n      <head>lines 550-624</head>\\r\\n    </chunk>\\r\\n    <chunk pos=\"77\" start=\"395378\" end=\"400153\" type=\"card\" n=\"625\" ref=\"Perseus%3Atext%3A1999.01.0227%3Abook%3D4%3Acard%3D625\">\\r\\n      <head>lines 625-682</head>\\r\\n    </chunk>\\r\\n    <chunk pos=\"78\" start=\"400153\" end=\"404550\" type=\"card\" n=\"683\" ref=\"Perseus%3Atext%3A1999.01.0227%3Abook%3D4%3Acard%3D683\">\\r\\n      <head>lines 683-736</head>\\r\\n    </chunk>\\r\\n    <chunk pos=\"79\" start=\"404550\" end=\"412417\" type=\"card\" n=\"737\" ref=\"Perseus%3Atext%3A1999.01.0227%3Abook%3D4%3Acard%3D737\">\\r\\n      <head>lines 737-830</head>\\r\\n    </chunk>\\r\\n    <chunk pos=\"80\" start=\"412417\" end=\"416775\" type=\"card\" n=\"831\" ref=\"Perseus%3Atext%3A1999.01.0227%3Abook%3D4%3Acard%3D831\">\\r\\n      <head>lines 831-882</head>\\r\\n    </chunk>\\r\\n    <chunk pos=\"81\" start=\"416775\" end=\"424613\" type=\"card\" n=\"883\" ref=\"Perseus%3Atext%3A1999.01.0227%3Abook%3D4%3Acard%3D883\">\\r\\n      <head>lines 883-979</head>\\r\\n    </chunk>\\r\\n    <chunk pos=\"82\" start=\"424613\" end=\"430479\" type=\"card\" n=\"980\" ref=\"Perseus%3Atext%3A1999.01.0227%3Abook%3D4%3Acard%3D980\">\\r\\n      <head>lines 980-1050</head>\\r\\n    </chunk>\\r\\n    <chunk pos=\"83\" start=\"430479\" end=\"435279\" type=\"card\" n=\"1051\" ref=\"Perseus%3Atext%3A1999.01.0227%3Abook%3D4%3Acard%3D1051\">\\r\\n      <head>lines 1051-1107</head>\\r\\n    </chunk>\\r\\n    <chunk pos=\"84\" start=\"435279\" end=\"440218\" type=\"card\" n=\"1108\" ref=\"Perseus%3Atext%3A1999.01.0227%3Abook%3D4%3Acard%3D1108\">\\r\\n      <head>lines 1108-1167</head>\\r\\n    </chunk>\\r\\n    <chunk pos=\"85\" start=\"440218\" end=\"444874\" type=\"card\" n=\"1168\" ref=\"Perseus%3Atext%3A1999.01.0227%3Abook%3D4%3Acard%3D1168\">\\r\\n      <head>lines 1168-1225</head>\\r\\n    </chunk>\\r\\n    <chunk pos=\"86\" start=\"444874\" end=\"452302\" type=\"card\" n=\"1226\" ref=\"Perseus%3Atext%3A1999.01.0227%3Abook%3D4%3Acard%3D1226\">\\r\\n      <head>lines 1226-1315</head>\\r\\n    </chunk>\\r\\n    <chunk pos=\"87\" start=\"452302\" end=\"456845\" type=\"card\" n=\"1316\" ref=\"Perseus%3Atext%3A1999.01.0227%3Abook%3D4%3Acard%3D1316\">\\r\\n      <head>lines 1316-1367</head>\\r\\n    </chunk>\\r\\n    <chunk pos=\"88\" start=\"456845\" end=\"461199\" type=\"card\" n=\"1368\" ref=\"Perseus%3Atext%3A1999.01.0227%3Abook%3D4%3Acard%3D1368\">\\r\\n      <head>lines 1368-1419</head>\\r\\n    </chunk>\\r\\n    <chunk pos=\"89\" start=\"461199\" end=\"466544\" type=\"card\" n=\"1420\" ref=\"Perseus%3Atext%3A1999.01.0227%3Abook%3D4%3Acard%3D1420\">\\r\\n      <head>lines 1420-1482</head>\\r\\n    </chunk>\\r\\n    <chunk pos=\"90\" start=\"466544\" end=\"470896\" type=\"card\" n=\"1483\" ref=\"Perseus%3Atext%3A1999.01.0227%3Abook%3D4%3Acard%3D1483\">\\r\\n      <head>lines 1483-1534</head>\\r\\n    </chunk>\\r\\n    <chunk pos=\"91\" start=\"470896\" end=\"476011\" type=\"card\" n=\"1535\" ref=\"Perseus%3Atext%3A1999.01.0227%3Abook%3D4%3Acard%3D1535\">\\r\\n      <head>lines 1535-1594</head>\\r\\n    </chunk>\\r\\n    <chunk pos=\"92\" start=\"476011\" end=\"480749\" type=\"card\" n=\"1595\" ref=\"Perseus%3Atext%3A1999.01.0227%3Abook%3D4%3Acard%3D1595\">\\r\\n      <head>lines 1595-1651</head>\\r\\n    </chunk>\\r\\n    <chunk pos=\"93\" start=\"480749\" end=\"487131\" type=\"card\" n=\"1652\" ref=\"Perseus%3Atext%3A1999.01.0227%3Abook%3D4%3Acard%3D1652\">\\r\\n      <head>lines 1652-1728</head>\\r\\n    </chunk>\\r\\n    <chunk pos=\"94\" start=\"487131\" end=\"491500\" type=\"card\" n=\"1729\" ref=\"Perseus%3Atext%3A1999.01.0227%3Abook%3D4%3Acard%3D1729\">\\r\\n      <head>lines 1729ff.</head>\\r\\n    </chunk>\\r\\n  </chunk>\\r\\n</contents>'"
      ]
     },
     "execution_count": 152,
     "metadata": {},
     "output_type": "execute_result"
    }
   ],
   "source": [
    "contents_xml"
   ]
  },
  {
   "cell_type": "code",
   "execution_count": 150,
   "metadata": {},
   "outputs": [],
   "source": [
    "lines_soup = bs(requests.get(text_url+lines[0]).text)\n",
    "xml_url = lines_soup.find('div', { 'id': 'footer_nav'}).find('a', {'class':'xml'})['href']"
   ]
  },
  {
   "cell_type": "code",
   "execution_count": 151,
   "metadata": {},
   "outputs": [
    {
     "data": {
      "text/plain": [
       "32512"
      ]
     },
     "execution_count": 151,
     "metadata": {},
     "output_type": "execute_result"
    }
   ],
   "source": [
    "os.system(f'!curl {base_url}{xml_url} ../text/greek/text.xml')"
   ]
  },
  {
   "cell_type": "code",
   "execution_count": 145,
   "metadata": {},
   "outputs": [
    {
     "name": "stdout",
     "output_type": "stream",
     "text": [
      "curl: (6) Could not resolve host: base_url\r\n",
      "curl: (6) Could not resolve host: +\r\n",
      "curl: (6) Could not resolve host: xml_url\r\n",
      "curl: (6) Could not resolve host: .\r\n"
     ]
    }
   ],
   "source": [
    "!curl {base_url} + {xml_url} ../text/greek/text.xml"
   ]
  },
  {
   "cell_type": "code",
   "execution_count": 143,
   "metadata": {},
   "outputs": [
    {
     "name": "stdout",
     "output_type": "stream",
     "text": [
      "  % Total    % Received % Xferd  Average Speed   Time    Time     Time  Current\n",
      "                                 Dload  Upload   Total   Spent    Left  Speed\n",
      "100  5841  100  5841    0     0  74884      0 --:--:-- --:--:-- --:--:-- 75857\n"
     ]
    }
   ],
   "source": [
    "!curl http://www.perseus.tufts.edu/hopper/xmlchunk?doc=Perseus%3Atext%3A1999.01.0227%3Abook%3D1%3Acard%3D1  > ../text/greek/text.xml"
   ]
  },
  {
   "cell_type": "code",
   "execution_count": null,
   "metadata": {},
   "outputs": [],
   "source": []
  }
 ],
 "metadata": {
  "kernelspec": {
   "display_name": "Python 3",
   "language": "python",
   "name": "python3"
  },
  "language_info": {
   "codemirror_mode": {
    "name": "ipython",
    "version": 3
   },
   "file_extension": ".py",
   "mimetype": "text/x-python",
   "name": "python",
   "nbconvert_exporter": "python",
   "pygments_lexer": "ipython3",
   "version": "3.6.9"
  }
 },
 "nbformat": 4,
 "nbformat_minor": 2
}

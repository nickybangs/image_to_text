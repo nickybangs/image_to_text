{
 "cells": [
  {
   "cell_type": "markdown",
   "metadata": {},
   "source": [
    "#### Imports"
   ]
  },
  {
   "cell_type": "code",
   "execution_count": 1,
   "metadata": {},
   "outputs": [
    {
     "data": {
      "text/html": [
       "<style>.container { width:100% !important; }</style>"
      ],
      "text/plain": [
       "<IPython.core.display.HTML object>"
      ]
     },
     "metadata": {},
     "output_type": "display_data"
    }
   ],
   "source": [
    "from IPython.core.display import display, HTML\n",
    "display(HTML(\"<style>.container { width:100% !important; }</style>\"))\n",
    "from IPython.display import Image \n",
    "%matplotlib inline\n",
    "%reload_ext autoreload\n",
    "%autoreload 2\n",
    "\n",
    "import config\n",
    "from copy import deepcopy\n",
    "import numpy as np\n",
    "from PIL import Image as pil_im\n",
    "from PIL import ImageEnhance\n",
    "from imageio import imwrite\n",
    "from itertools import product\n",
    "import matplotlib.pyplot as plt\n",
    "from fastai.core import Path\n",
    "\n",
    "from fastai.vision import Image as fast_im\n",
    "from time import time\n",
    "import yaml\n",
    "\n",
    "import dill\n",
    "import cloudpickle \n",
    "dill._dill._reverse_typemap['ClassType'] = type\n",
    " "
   ]
  },
  {
   "cell_type": "code",
   "execution_count": 10,
   "metadata": {},
   "outputs": [],
   "source": [
    "from image_graph import *\n",
    "from line_bounds import *\n",
    "from pred_handler import get_top_preds"
   ]
  },
  {
   "cell_type": "markdown",
   "metadata": {},
   "source": [
    "#### Load models and create image graph"
   ]
  },
  {
   "cell_type": "markdown",
   "metadata": {},
   "source": [
    "<p style=\"font-size:16px;color:#FFB5A4\">After all of the lines are split and stored in image files, we can split each one into it's individual characters <span style=\"font-size:13px;\">(or sometimes character parts, or multiple characters -- see dataset generation notebook)</span></p>"
   ]
  },
  {
   "cell_type": "code",
   "execution_count": 13,
   "metadata": {},
   "outputs": [
    {
     "name": "stderr",
     "output_type": "stream",
     "text": [
      "/anaconda3/lib/python3.6/site-packages/torch/serialization.py:453: SourceChangeWarning: source code of class 'torch.nn.modules.loss.CrossEntropyLoss' has changed. you can retrieve the original source code by accessing the object's source attribute or set `torch.nn.Module.dump_patches = True` and use the patch tool to revert the changes.\n",
      "  warnings.warn(msg, SourceChangeWarning)\n",
      "/anaconda3/lib/python3.6/site-packages/torch/serialization.py:453: SourceChangeWarning: source code of class 'torch.nn.modules.conv.Conv2d' has changed. you can retrieve the original source code by accessing the object's source attribute or set `torch.nn.Module.dump_patches = True` and use the patch tool to revert the changes.\n",
      "  warnings.warn(msg, SourceChangeWarning)\n",
      "/anaconda3/lib/python3.6/site-packages/torch/serialization.py:453: SourceChangeWarning: source code of class 'torch.nn.modules.batchnorm.BatchNorm2d' has changed. you can retrieve the original source code by accessing the object's source attribute or set `torch.nn.Module.dump_patches = True` and use the patch tool to revert the changes.\n",
      "  warnings.warn(msg, SourceChangeWarning)\n",
      "/anaconda3/lib/python3.6/site-packages/torch/serialization.py:453: SourceChangeWarning: source code of class 'torch.nn.modules.activation.ReLU' has changed. you can retrieve the original source code by accessing the object's source attribute or set `torch.nn.Module.dump_patches = True` and use the patch tool to revert the changes.\n",
      "  warnings.warn(msg, SourceChangeWarning)\n",
      "/anaconda3/lib/python3.6/site-packages/torch/serialization.py:453: SourceChangeWarning: source code of class 'torch.nn.modules.pooling.MaxPool2d' has changed. you can retrieve the original source code by accessing the object's source attribute or set `torch.nn.Module.dump_patches = True` and use the patch tool to revert the changes.\n",
      "  warnings.warn(msg, SourceChangeWarning)\n",
      "/anaconda3/lib/python3.6/site-packages/torch/serialization.py:453: SourceChangeWarning: source code of class 'torch.nn.modules.pooling.AdaptiveAvgPool2d' has changed. you can retrieve the original source code by accessing the object's source attribute or set `torch.nn.Module.dump_patches = True` and use the patch tool to revert the changes.\n",
      "  warnings.warn(msg, SourceChangeWarning)\n",
      "/anaconda3/lib/python3.6/site-packages/torch/serialization.py:453: SourceChangeWarning: source code of class 'torch.nn.modules.pooling.AdaptiveMaxPool2d' has changed. you can retrieve the original source code by accessing the object's source attribute or set `torch.nn.Module.dump_patches = True` and use the patch tool to revert the changes.\n",
      "  warnings.warn(msg, SourceChangeWarning)\n",
      "/anaconda3/lib/python3.6/site-packages/torch/serialization.py:453: SourceChangeWarning: source code of class 'torch.nn.modules.batchnorm.BatchNorm1d' has changed. you can retrieve the original source code by accessing the object's source attribute or set `torch.nn.Module.dump_patches = True` and use the patch tool to revert the changes.\n",
      "  warnings.warn(msg, SourceChangeWarning)\n",
      "/anaconda3/lib/python3.6/site-packages/torch/serialization.py:453: SourceChangeWarning: source code of class 'torch.nn.modules.dropout.Dropout' has changed. you can retrieve the original source code by accessing the object's source attribute or set `torch.nn.Module.dump_patches = True` and use the patch tool to revert the changes.\n",
      "  warnings.warn(msg, SourceChangeWarning)\n",
      "/anaconda3/lib/python3.6/site-packages/torch/serialization.py:453: SourceChangeWarning: source code of class 'torch.nn.modules.linear.Linear' has changed. you can retrieve the original source code by accessing the object's source attribute or set `torch.nn.Module.dump_patches = True` and use the patch tool to revert the changes.\n",
      "  warnings.warn(msg, SourceChangeWarning)\n",
      "/anaconda3/lib/python3.6/site-packages/torch/serialization.py:453: SourceChangeWarning: source code of class 'torch.nn.modules.loss.MSELoss' has changed. you can retrieve the original source code by accessing the object's source attribute or set `torch.nn.Module.dump_patches = True` and use the patch tool to revert the changes.\n",
      "  warnings.warn(msg, SourceChangeWarning)\n"
     ]
    }
   ],
   "source": [
    "line_source = Path('../greek_pages/line_images/LAT_RDR_PG2')\n",
    "\n",
    "lang_model = dill.load(open('../models/latin_lang_model.pkl','rb'))\n",
    "config.model = load_learner('../models/', 'latin_model.pkl') # model to classify a character component\n",
    "splitter_model = load_learner('../models/', 'split_model.pkl') # model to split components containing multiple characters"
   ]
  },
  {
   "cell_type": "markdown",
   "metadata": {},
   "source": [
    "<p style=\"font-size:15px;color:#FFB5A4\">For this notebook we will just parse one line, in general each line will be parsed with the following methodology and compiled together into a final text document</p>"
   ]
  },
  {
   "cell_type": "code",
   "execution_count": 14,
   "metadata": {},
   "outputs": [
    {
     "data": {
      "text/plain": [
       "PosixPath('../greek_pages/line_images/LAT_RDR_PG2/line_13.jpeg')"
      ]
     },
     "execution_count": 14,
     "metadata": {},
     "output_type": "execute_result"
    }
   ],
   "source": [
    "line_path = line_source.ls()[0]; line_path"
   ]
  },
  {
   "cell_type": "code",
   "execution_count": 15,
   "metadata": {},
   "outputs": [],
   "source": [
    "line_path = Path('../greek_pages/line_images/LAT_RDR_PG2/line_2.jpeg')"
   ]
  },
  {
   "cell_type": "markdown",
   "metadata": {},
   "source": [
    "#### New heading"
   ]
  },
  {
   "cell_type": "code",
   "execution_count": null,
   "metadata": {},
   "outputs": [],
   "source": []
  },
  {
   "cell_type": "code",
   "execution_count": 21,
   "metadata": {},
   "outputs": [
    {
     "data": {
      "text/plain": [
       "<matplotlib.image.AxesImage at 0x1a346b8d30>"
      ]
     },
     "execution_count": 21,
     "metadata": {},
     "output_type": "execute_result"
    },
    {
     "data": {
      "image/png": "[encoded data removed]",
      "text/plain": [
       "<Figure size 432x288 with 1 Axes>"
      ]
     },
     "metadata": {
      "needs_background": "light"
     },
     "output_type": "display_data"
    }
   ],
   "source": [
    "plt.imshow(img)"
   ]
  },
  {
   "cell_type": "code",
   "execution_count": 16,
   "metadata": {},
   "outputs": [],
   "source": [
    "graph_path = Path('../greek_pages/line_graphs/')\n",
    "graph_name = line_path.name.replace('.jpg','.txt')"
   ]
  },
  {
   "cell_type": "code",
   "execution_count": 17,
   "metadata": {},
   "outputs": [],
   "source": [
    "img = get_image_array(line_path)\n",
    "config.rows, config.cols = img.shape # set config parameters used by the graph processing algorithms"
   ]
  },
  {
   "cell_type": "markdown",
   "metadata": {},
   "source": [
    "<p style=\"font-size:16px;color:#FFB5A4\">Get a graph representation of the line as well as all the connected components - these represent the individual characters</p>"
   ]
  },
  {
   "cell_type": "code",
   "execution_count": 24,
   "metadata": {},
   "outputs": [
    {
     "data": {
      "text/plain": [
       "[27377 -> 29934, 0.0, 27377 -> 29935, 0.0]"
      ]
     },
     "execution_count": 24,
     "metadata": {},
     "output_type": "execute_result"
    }
   ],
   "source": [
    "G.adj[27377]"
   ]
  },
  {
   "cell_type": "code",
   "execution_count": 25,
   "metadata": {},
   "outputs": [
    {
     "data": {
      "text/plain": [
       "(121, 2557)"
      ]
     },
     "execution_count": 25,
     "metadata": {},
     "output_type": "execute_result"
    }
   ],
   "source": [
    "img.shape"
   ]
  },
  {
   "cell_type": "code",
   "execution_count": 19,
   "metadata": {},
   "outputs": [
    {
     "data": {
      "text/plain": [
       "{27376: (1806, 1809, 10, 11),\n",
       " 35046: (1796, 1824, 12, 47),\n",
       " 96333: (1666, 1777, 28, 68),\n",
       " 80854: (1579, 1600, 31, 71),\n",
       " 91536: (2040, 2044, 35, 38),\n",
       " 95534: (902, 935, 36, 78),\n",
       " 129076: (1220, 1343, 36, 79),\n",
       " 93537: (1485, 1494, 36, 44),\n",
       " 95395: (779, 799, 37, 76),\n",
       " 95891: (1282, 1285, 37, 39),\n",
       " 100490: (766, 775, 39, 45),\n",
       " 100853: (1122, 1175, 39, 79),\n",
       " 101372: (1601, 1667, 39, 70),\n",
       " 105726: (889, 897, 40, 48),\n",
       " 103560: (1278, 1286, 40, 48),\n",
       " 103611: (1330, 1339, 40, 48),\n",
       " 106395: (1557, 1560, 41, 44),\n",
       " 106463: (1626, 1628, 41, 43),\n",
       " 110544: (586, 617, 42, 72),\n",
       " 108938: (1533, 1560, 42, 72),\n",
       " 110580: (617, 644, 43, 73),\n",
       " 113163: (646, 673, 44, 74),\n",
       " 121607: (1427, 1533, 44, 75),\n",
       " 115740: (674, 734, 45, 75),\n",
       " 120915: (735, 760, 46, 75),\n",
       " 119030: (1396, 1426, 46, 76),\n",
       " 123498: (761, 779, 47, 76),\n",
       " 121556: (1359, 1395, 47, 76),\n",
       " 123560: (817, 850, 48, 89),\n",
       " 126144: (851, 904, 48, 78),\n",
       " 128818: (938, 1019, 48, 79),\n",
       " 123733: (997, 1000, 48, 50),\n",
       " 131462: (1054, 1089, 49, 79),\n",
       " 126395: (1090, 1120, 49, 79),\n",
       " 126476: (1176, 1202, 49, 79),\n",
       " 137295: (1774, 1776, 53, 55),\n",
       " 144657: (1464, 1467, 56, 58),\n",
       " 144974: (1781, 1791, 56, 70),\n",
       " 148191: (2440, 2452, 57, 64),\n",
       " 182573: (1024, 1033, 71, 84),\n",
       " 249338: (1309, 1313, 97, 99),\n",
       " 254381: (1238, 1242, 99, 101),\n",
       " 261951: (1137, 1140, 102, 104),\n",
       " 264344: (973, 976, 103, 104),\n",
       " 269458: (973, 975, 105, 107),\n",
       " 271702: (660, 662, 106, 108)}"
      ]
     },
     "execution_count": 19,
     "metadata": {},
     "output_type": "execute_result"
    }
   ],
   "source": [
    "c"
   ]
  },
  {
   "cell_type": "code",
   "execution_count": 18,
   "metadata": {
    "code_folding": []
   },
   "outputs": [
    {
     "name": "stderr",
     "output_type": "stream",
     "text": [
      "/anaconda3/lib/python3.6/site-packages/ipykernel_launcher.py:4: YAMLLoadWarning: calling yaml.load() without Loader=... is deprecated, as the default Loader is unsafe. Please read https://msg.pyyaml.org/load for full details.\n",
      "  after removing the cwd from sys.path.\n"
     ]
    }
   ],
   "source": [
    "G = get_graph(graph_path, graph_name, line_path)\n",
    "c = get_components(G)\n",
    "with open('../yaml/letter_map_inverse_english.yaml') as f: # get inverse letter-maps to convert from letter code to character\n",
    "    lm_inv = yaml.load(f)"
   ]
  },
  {
   "cell_type": "markdown",
   "metadata": {},
   "source": [
    "#### Define Functions"
   ]
  },
  {
   "cell_type": "code",
   "execution_count": 12,
   "metadata": {},
   "outputs": [],
   "source": [
    "from split_multi import * \n",
    "from image_handling import *"
   ]
  },
  {
   "cell_type": "markdown",
   "metadata": {},
   "source": [
    "#### Get preds for each component"
   ]
  },
  {
   "cell_type": "markdown",
   "metadata": {},
   "source": [
    "<p style=\"font-size:15px;color:#FFB5A4\">For each component, predict the letter with the classifier (see training details for info on model)\n",
    "    <br/><br/>\n",
    "   Add the top 3 predictions as candidates, the final letter decision will be made by a character level language model</p> "
   ]
  },
  {
   "cell_type": "code",
   "execution_count": null,
   "metadata": {
    "code_folding": []
   },
   "outputs": [],
   "source": [
    "s = []\n",
    "for l in c:\n",
    "    lb, ub, lbr, ubr = c[l]\n",
    "    im = get_fast_im(img[lbr:ubr, lb:ub])\n",
    "    ltrs = [get_top_preds(im, imtype='image', top=3)]\n",
    "    s.append((lb,ub,ltrs,l))"
   ]
  },
  {
   "cell_type": "markdown",
   "metadata": {},
   "source": [
    "<p style=\"font-size:15px;color:#FFB5A4\">Quick look at the predictions for the first few characters</p> "
   ]
  },
  {
   "cell_type": "code",
   "execution_count": null,
   "metadata": {},
   "outputs": [],
   "source": [
    "words = get_words(sorted(s, key=lambda x: x[1]))"
   ]
  },
  {
   "cell_type": "code",
   "execution_count": null,
   "metadata": {},
   "outputs": [],
   "source": [
    "words[0]"
   ]
  },
  {
   "cell_type": "markdown",
   "metadata": {},
   "source": [
    "<img src=\"../greek_pages/line_images/LAT_RDR_PG2/line_13.jpeg\" style=\"width: 700px; height=150px;\" />"
   ]
  },
  {
   "cell_type": "code",
   "execution_count": null,
   "metadata": {},
   "outputs": [],
   "source": [
    "def get_vertical_neighbor(letter, neighbors):\n",
    "    left, right = neighbors\n",
    "    lb, ub, lbr, ubr = zip(c[letter], c[left])\n",
    "    lb, ub, lbr, ubr = min(lb), max(ub), min(lbr), max(ubr)\n",
    "    return lb, ub, lbr, ubr"
   ]
  },
  {
   "cell_type": "code",
   "execution_count": null,
   "metadata": {},
   "outputs": [],
   "source": [
    "lb, ub, lbr, ubr =get_vertical_neighbor(102849,(82434,None))"
   ]
  },
  {
   "cell_type": "code",
   "execution_count": null,
   "metadata": {},
   "outputs": [],
   "source": [
    "plt.imshow(img[lbr:ubr, lb:ub])"
   ]
  },
  {
   "cell_type": "code",
   "execution_count": null,
   "metadata": {},
   "outputs": [],
   "source": [
    "lefts, rights = get_sp_ims(img[lbr:ubr, lb:ub].T,.5,2)"
   ]
  },
  {
   "cell_type": "code",
   "execution_count": null,
   "metadata": {},
   "outputs": [],
   "source": [
    "lefts[0]"
   ]
  },
  {
   "cell_type": "code",
   "execution_count": null,
   "metadata": {},
   "outputs": [],
   "source": [
    "get_top_preds(lefts[0],imtype='image',top=3)"
   ]
  },
  {
   "cell_type": "code",
   "execution_count": null,
   "metadata": {},
   "outputs": [],
   "source": [
    "rights[0]"
   ]
  },
  {
   "cell_type": "code",
   "execution_count": null,
   "metadata": {},
   "outputs": [],
   "source": [
    "get_top_preds(rights[0],imtype='image',top=3)"
   ]
  },
  {
   "cell_type": "code",
   "execution_count": null,
   "metadata": {},
   "outputs": [],
   "source": [
    "newll, newlr = get_sp_ims(np.asarray(lefts[0].data[2]*265).T,.5,2)"
   ]
  },
  {
   "cell_type": "code",
   "execution_count": null,
   "metadata": {},
   "outputs": [],
   "source": [
    "newrl, newrr = get_sp_ims(np.asarray(rights[0].data[2]*265).T,.5,2)"
   ]
  },
  {
   "cell_type": "code",
   "execution_count": null,
   "metadata": {},
   "outputs": [],
   "source": [
    "newrl[0]"
   ]
  },
  {
   "cell_type": "code",
   "execution_count": null,
   "metadata": {},
   "outputs": [],
   "source": [
    "newrr[0]"
   ]
  },
  {
   "cell_type": "code",
   "execution_count": null,
   "metadata": {},
   "outputs": [],
   "source": [
    "get_top_preds(newrl[0],imtype='image',top=3)"
   ]
  },
  {
   "cell_type": "code",
   "execution_count": null,
   "metadata": {},
   "outputs": [],
   "source": [
    "get_top_preds(newrr[0],imtype='image',top=3)"
   ]
  },
  {
   "cell_type": "markdown",
   "metadata": {},
   "source": [
    "word options = 'hil', 'nil', 'h1l', 'n1l', etc"
   ]
  },
  {
   "cell_type": "code",
   "execution_count": null,
   "metadata": {},
   "outputs": [],
   "source": [
    "lang_model.S('h',('**','**')), lang_model.S('h',('**','**'))*.077"
   ]
  },
  {
   "cell_type": "code",
   "execution_count": null,
   "metadata": {},
   "outputs": [],
   "source": [
    "lang_model.S('n',('**','**')), lang_model.S('n',('**','**'))*.0758"
   ]
  },
  {
   "cell_type": "code",
   "execution_count": null,
   "metadata": {},
   "outputs": [],
   "source": [
    "lang_model.S('i',('**','h')), lang_model.S('i',('**','h'))*.002, lang_model.S('i',('**','h'))*.002*.411"
   ]
  },
  {
   "cell_type": "code",
   "execution_count": null,
   "metadata": {},
   "outputs": [],
   "source": [
    "lang_model.S('i',('**','n')), lang_model.S('i',('**','n'))*.004, lang_model.S('i',('**','h'))*.004*.411"
   ]
  },
  {
   "cell_type": "code",
   "execution_count": null,
   "metadata": {},
   "outputs": [],
   "source": [
    "p1 = lang_model.S('l', ('h','i')) * .00012 * .41"
   ]
  },
  {
   "cell_type": "code",
   "execution_count": null,
   "metadata": {},
   "outputs": [],
   "source": [
    "lang_model.S('l', ('h','i'))"
   ]
  },
  {
   "cell_type": "code",
   "execution_count": null,
   "metadata": {},
   "outputs": [],
   "source": [
    "lang_model.S('l', ('n','i'))"
   ]
  },
  {
   "cell_type": "code",
   "execution_count": null,
   "metadata": {},
   "outputs": [],
   "source": [
    "p2 = lang_model.S('l', ('n','i')) * .00024 * .41"
   ]
  },
  {
   "cell_type": "code",
   "execution_count": null,
   "metadata": {},
   "outputs": [],
   "source": [
    "max(p1,p2)"
   ]
  },
  {
   "cell_type": "code",
   "execution_count": null,
   "metadata": {},
   "outputs": [],
   "source": [
    "lang_model.S('i',('**','t'))*.15\n",
    "\n",
    "lang_model.S('t',('**','t'))*0.7619\n",
    "\n",
    "lang_model.S('n',('**','**'))*.4\n",
    "\n",
    "lb, ub, lbr, ubr = c[com]\n",
    "\n",
    "get_top_preds(get_fast_im(img[lbr:ubr, lb:ub]),imtype='image')"
   ]
  },
  {
   "cell_type": "code",
   "execution_count": null,
   "metadata": {},
   "outputs": [],
   "source": [
    "newl[0]"
   ]
  },
  {
   "cell_type": "markdown",
   "metadata": {},
   "source": [
    "<p style=\"font-size:15px;color:#FFB5A4\">Now we will create a first attempt at a text version of the line</p> \n",
    "\n",
    "<p style=\"font-size:15px;color:#FFB5A4\">For each character, if it is a multi we will split it (see below) and then add each sub-image. If not we just add the letter, using its prediction, its left boundary (pxl number) and the right boundary of the character before. See function def below</p>"
   ]
  },
  {
   "cell_type": "code",
   "execution_count": null,
   "metadata": {},
   "outputs": [],
   "source": [
    "lb, ub, lbr, ubr = c[ltr[-1]]\n",
    "imwrite('temp.jpg', img[lbr:ubr, lb:ub])\n",
    "sp_splits, mdl_split = get_mult(Path('temp.jpg'))\n",
    "l1, l2 = get_best_letters(sp_splits, mdl_split)\n",
    "[(l1, l2 )]+ [p for p in ltr[2][0] if p[0] != 'multi']"
   ]
  },
  {
   "cell_type": "code",
   "execution_count": null,
   "metadata": {},
   "outputs": [],
   "source": [
    "for w in words:\n",
    "    w = filter_letters(w)\n",
    "    print(w)"
   ]
  },
  {
   "cell_type": "code",
   "execution_count": null,
   "metadata": {},
   "outputs": [],
   "source": [
    "max_prob = 0\n",
    "max_string = ''"
   ]
  },
  {
   "cell_type": "code",
   "execution_count": null,
   "metadata": {
    "code_folding": [
     0
    ]
   },
   "outputs": [],
   "source": [
    "for word in product(ltr_1, ltr_2, ltr_3, ltr_4, ltr_5, ltr_6):\n",
    "    nword = []\n",
    "    for w in word:\n",
    "        if isinstance(w[0], tuple):\n",
    "            nword.append(w[0])\n",
    "            nword.append(w[1])\n",
    "        else:\n",
    "            nword.append(w)\n",
    "    word_str = [('**',1),('**',1)] + nword + [('**STOP**',1)]\n",
    "    i = 2\n",
    "    prob = 1\n",
    "    while i < len(word_str):\n",
    "        try:\n",
    "            prob *= lang_model.S(word_str[i][0], (word_str[i-2][0], word_str[i-1][0]))*word_str[i][1]\n",
    "        except:\n",
    "            prob = 0\n",
    "        i += 1\n",
    "    if prob > max_prob:\n",
    "        max_prob = prob\n",
    "        max_string = ''.join([w[0] for w in nword])"
   ]
  },
  {
   "cell_type": "code",
   "execution_count": null,
   "metadata": {},
   "outputs": [],
   "source": [
    "l1 = list(product(l1,l2)) + [p for p in ltr[2][0] if p[0] != 'multi']"
   ]
  },
  {
   "cell_type": "code",
   "execution_count": null,
   "metadata": {},
   "outputs": [],
   "source": [
    "# run function definitions below\n",
    "for i,ltr in enumerate(srted):\n",
    "    if 'multi' in ltr[2]:\n",
    "        lb, ub, lbr, ubr = c[ltr[-1]]\n",
    "        imwrite('temp.jpg', img[lbr:ubr, lb:ub])\n",
    "        sp_splits, mdl_split = get_mult(Path('temp.jpg'))\n",
    "        l1, l2 = get_best_letters(sp_splits, mdl_split)\n",
    "        line += add_letter(l1, srted[max(i-1,0)][1], ltr[0])\n",
    "        line += add_letter(l2, ltr[0], ltr[0])\n",
    "    else:\n",
    "        if ltr[2] != ['noise']:\n",
    "            line += add_letter(ltr[2], srted[max(i-1,0)][1], ltr[0])"
   ]
  },
  {
   "cell_type": "markdown",
   "metadata": {},
   "source": [
    "<p style=\"font-size:15px;color:#FFB5A4\">Here is the image of the line, as well as the text generated by the current model and parser. Currently I allow both options for predictions with prob. below .8 separating them by a / character. In a final conversion I would return the argmax. However the future version will use a language model to chose between the top 2 or 3 preds, multiplying the letter probability by the probability of the word generated with that letter. This will most likely not be an issue often in practice since often only one of the options will be an actual word.</p> <br/>\n",
    "<p style=\"font-size:15px;color:#FFB5A4\">As of now the model has primarily been trained on greek data with only a few english samples, so as I expand that data set the performance on english letters will improve dramatically.</p>"
   ]
  },
  {
   "cell_type": "markdown",
   "metadata": {},
   "source": [
    "<img src=\"../greek_pages/line_images/line_1.jpg\" style=\"width: 700px; height=150px;\" />"
   ]
  },
  {
   "cell_type": "markdown",
   "metadata": {},
   "source": [
    "<p style=\"font-size:15px;color:#FFB5A4\">This next function attempts to split an image classified as 'multi' into two sub-characters using two methods:</p>\n",
    "<ul style=\"font-size:15px;color:#FFB5A4\">\n",
    "    <li>a shortest path from the estimated split point to the bottom of the image</li>\n",
    "    <li>a straight line from that point</li></ul>\n",
    "<br/>\n",
    "<p style=\"font-size:15px;color:#FFB5A4\">the argmax probabilities of each the letters are multiplied together to get a score, the higher score is chosen as the correct split</p>"
   ]
  }
 ],
 "metadata": {
  "kernelspec": {
   "display_name": "Python 3",
   "language": "python",
   "name": "python3"
  },
  "language_info": {
   "codemirror_mode": {
    "name": "ipython",
    "version": 3
   },
   "file_extension": ".py",
   "mimetype": "text/x-python",
   "name": "python",
   "nbconvert_exporter": "python",
   "pygments_lexer": "ipython3",
   "version": "3.6.9"
  }
 },
 "nbformat": 4,
 "nbformat_minor": 2
}

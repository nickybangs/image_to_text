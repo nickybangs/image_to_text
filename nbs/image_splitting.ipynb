{
 "cells": [
  {
   "cell_type": "code",
   "execution_count": 1,
   "metadata": {},
   "outputs": [
    {
     "data": {
      "text/html": [
       "<style>.container { width:100% !important; }</style>"
      ],
      "text/plain": [
       "<IPython.core.display.HTML object>"
      ]
     },
     "metadata": {},
     "output_type": "display_data"
    }
   ],
   "source": [
    "import csv\n",
    "from copy import deepcopy\n",
    "from fastai.vision import load_learner, open_image, defaults, Image\n",
    "from imageio import imwrite\n",
    "from fastai.core import Path\n",
    "import torch as torch\n",
    "from IPython.core.display import HTML\n",
    "import os\n",
    "import pandas as pd\n",
    "display(HTML(\"<style>.container { width:100% !important; }</style>\"))"
   ]
  },
  {
   "cell_type": "code",
   "execution_count": 2,
   "metadata": {},
   "outputs": [],
   "source": [
    "defaults.device = torch.device('cpu')"
   ]
  },
  {
   "cell_type": "code",
   "execution_count": 3,
   "metadata": {},
   "outputs": [],
   "source": [
    "def split(img, split_frac):\n",
    "    img.data[:,:,int(img.data.shape[2]*split_frac)] = 0\n",
    "    return img\n",
    "\n",
    "def split_parts(img, split_frac):\n",
    "    left_im = img.data[:,:,:int(img.data.shape[2]*split_frac)+1]\n",
    "    right_im = img.data[:,:,int(img.shape[2]*split_frac):]\n",
    "    return Image(left_im), Image(right_im)"
   ]
  },
  {
   "cell_type": "code",
   "execution_count": 7,
   "metadata": {},
   "outputs": [],
   "source": [
    "master_path = Path('/Users/nicholasbangs/Notebooks/personal/greek_reader_master/')\n",
    "multi_path = master_path/'lgi_data'/'gk_letter_imgs'/'multi'\n",
    "splitter_path =  master_path/'letter_splitter'\n",
    "class_path = master_path/'models'"
   ]
  },
  {
   "cell_type": "code",
   "execution_count": 8,
   "metadata": {},
   "outputs": [],
   "source": [
    "splitter_name = 'split_model_2.pkl'\n",
    "splitter = load_learner(splitter_path, splitter_name)"
   ]
  },
  {
   "cell_type": "code",
   "execution_count": 9,
   "metadata": {},
   "outputs": [],
   "source": [
    "class_name = 'rn_34.pkl'\n",
    "class_lrnr = load_learner(class_path, class_name)"
   ]
  },
  {
   "cell_type": "code",
   "execution_count": 66,
   "metadata": {},
   "outputs": [],
   "source": [
    "split_points = dict()"
   ]
  },
  {
   "cell_type": "code",
   "execution_count": 73,
   "metadata": {},
   "outputs": [],
   "source": [
    "imgs = iter(multi_path.ls())"
   ]
  },
  {
   "cell_type": "code",
   "execution_count": 74,
   "metadata": {},
   "outputs": [],
   "source": [
    "# start here"
   ]
  },
  {
   "cell_type": "code",
   "execution_count": 75,
   "metadata": {},
   "outputs": [],
   "source": [
    "img_name = next(imgs)\n",
    "#img_name = multi_path/'multi_174.jpg'\n",
    "im = open_image(img_name)"
   ]
  },
  {
   "cell_type": "code",
   "execution_count": 77,
   "metadata": {},
   "outputs": [
    {
     "data": {
      "image/jpeg": "[encoded data removed]",
      "image/png": "[encoded data removed]",
      "text/plain": [
       "Image (3, 31, 71)"
      ]
     },
     "execution_count": 77,
     "metadata": {},
     "output_type": "execute_result"
    }
   ],
   "source": [
    "ip = splitter.predict(im)[1][0][1]\n",
    "frac = .5 + round(float(ip),2) + .0\n",
    "new_im = split(deepcopy(im),frac); new_im"
   ]
  },
  {
   "cell_type": "code",
   "execution_count": 78,
   "metadata": {},
   "outputs": [],
   "source": [
    "i1, i2 = split_parts(open_image(img_name), frac)"
   ]
  },
  {
   "cell_type": "code",
   "execution_count": 79,
   "metadata": {},
   "outputs": [
    {
     "data": {
      "text/plain": [
       "[(('α', tensor(1.0000)), ('π', tensor(1.0000))),\n",
       " (('multi', tensor(2.5952e-06)), ('hyp', tensor(1.3603e-05))),\n",
       " (('ωcap', tensor(7.2878e-07)), ('multi', tensor(9.0489e-06)))]"
      ]
     },
     "execution_count": 79,
     "metadata": {},
     "output_type": "execute_result"
    }
   ],
   "source": [
    "split_points[img_name.name] = float(frac)\n",
    "preds1 = list(zip(class_lrnr.data.classes, class_lrnr.predict(i1)[2]))\n",
    "preds2 = list(zip(class_lrnr.data.classes, class_lrnr.predict(i2)[2]))\n",
    "list(zip(sorted(preds1, key=lambda x: x[1], reverse=True)[:3],sorted(preds2, key=lambda x: x[1], reverse=True)[:3]))\n"
   ]
  },
  {
   "cell_type": "code",
   "execution_count": 49,
   "metadata": {},
   "outputs": [],
   "source": [
    "import config"
   ]
  },
  {
   "cell_type": "code",
   "execution_count": 50,
   "metadata": {},
   "outputs": [],
   "source": [
    "import file_maintenance"
   ]
  },
  {
   "cell_type": "code",
   "execution_count": 57,
   "metadata": {},
   "outputs": [],
   "source": [
    "config.letter_dest = splitter_path"
   ]
  },
  {
   "cell_type": "code",
   "execution_count": 58,
   "metadata": {},
   "outputs": [],
   "source": [
    "file_maintenance.get_letter_dict()"
   ]
  },
  {
   "cell_type": "code",
   "execution_count": 65,
   "metadata": {},
   "outputs": [],
   "source": [
    "for f in multi_path.ls():\n",
    "    if '.jpg' in f.name:\n",
    "        next_id = file_maintenance.get_next_ind('multi')\n",
    "        os.system('mv {} {}/multi_{}'.format(f, f.parent, next_id))"
   ]
  },
  {
   "cell_type": "code",
   "execution_count": 64,
   "metadata": {},
   "outputs": [
    {
     "data": {
      "text/plain": [
       "{'multi': (185, array([184])), '.ipynb_checkpoints': (2, array([0, 1]))}"
      ]
     },
     "execution_count": 64,
     "metadata": {},
     "output_type": "execute_result"
    }
   ],
   "source": [
    "config.letter_dict"
   ]
  },
  {
   "cell_type": "code",
   "execution_count": 48,
   "metadata": {},
   "outputs": [],
   "source": [
    "with open(splitter_path/'letter_split_data.csv','a') as f:\n",
    "    cw = csv.writer(f)a\n",
    "    for k in split_points:\n",
    "        cw.writerow([k, split_points[k]])"
   ]
  },
  {
   "cell_type": "code",
   "execution_count": 1,
   "metadata": {},
   "outputs": [],
   "source": [
    "import os"
   ]
  },
  {
   "cell_type": "code",
   "execution_count": 2,
   "metadata": {},
   "outputs": [
    {
     "data": {
      "text/plain": [
       "0"
      ]
     },
     "execution_count": 2,
     "metadata": {},
     "output_type": "execute_result"
    }
   ],
   "source": [
    "os.system('mkdir -p greek_reader_master/split_data/auto_tags')"
   ]
  },
  {
   "cell_type": "code",
   "execution_count": 11,
   "metadata": {},
   "outputs": [],
   "source": [
    "df = pd.read_csv('greek_reader_master/letter_splitter/letter_split_data.csv',header=None)"
   ]
  },
  {
   "cell_type": "code",
   "execution_count": 13,
   "metadata": {},
   "outputs": [],
   "source": [
    "df.columns = ['fname','frac']"
   ]
  },
  {
   "cell_type": "code",
   "execution_count": 38,
   "metadata": {},
   "outputs": [],
   "source": [
    "from collections import defaultdict"
   ]
  },
  {
   "cell_type": "code",
   "execution_count": 47,
   "metadata": {},
   "outputs": [],
   "source": [
    "item_count = defaultdict(int)"
   ]
  },
  {
   "cell_type": "code",
   "execution_count": null,
   "metadata": {},
   "outputs": [],
   "source": [
    "for f in multi_path.ls():\n",
    "    if 'jpg' in f.name:\n",
    "        frac = df[df['fname']==f.name]['frac'].iloc[0]\n",
    "        im1, im2 = split_parts(open_image(f), frac)\n",
    "        im1_label, im2_label = class_lrnr.predict(im1)[0].obj, class_lrnr.predict(im2)[0].obj\n",
    "        os.system('mkdir -p greek_reader_master/split_data/auto_tags/{}'.format(im1_label))\n",
    "        os.system('mkdir -p greek_reader_master/split_data/auto_tags/{}'.format(im2_label))\n",
    "        im1.save('greek_reader_master/split_data/auto_tags/{0}/{0}_{1}.jpg'.format(im1_label, item_count[im1_label]))\n",
    "        im2.save('greek_reader_master/split_data/auto_tags/{0}/{0}_{1}.jpg'.format(im2_label, item_count[im2_label]))\n",
    "        item_count[im1_label] += 1\n",
    "        item_count[im2_label] += 1\n",
    "        "
   ]
  },
  {
   "cell_type": "code",
   "execution_count": 49,
   "metadata": {},
   "outputs": [
    {
     "name": "stdout",
     "output_type": "stream",
     "text": [
      "h\n"
     ]
    }
   ],
   "source": [
    "print('h')"
   ]
  },
  {
   "cell_type": "code",
   "execution_count": null,
   "metadata": {},
   "outputs": [],
   "source": []
  }
 ],
 "metadata": {
  "kernelspec": {
   "display_name": "Python 3",
   "language": "python",
   "name": "python3"
  },
  "language_info": {
   "codemirror_mode": {
    "name": "ipython",
    "version": 3
   },
   "file_extension": ".py",
   "mimetype": "text/x-python",
   "name": "python",
   "nbconvert_exporter": "python",
   "pygments_lexer": "ipython3",
   "version": "3.6.1"
  }
 },
 "nbformat": 4,
 "nbformat_minor": 2
}

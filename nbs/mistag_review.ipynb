{
 "cells": [
  {
   "cell_type": "code",
   "execution_count": 4,
   "metadata": {},
   "outputs": [
    {
     "data": {
      "text/html": [
       "<style>.container { width:100% !important; }</style>"
      ],
      "text/plain": [
       "<IPython.core.display.HTML object>"
      ]
     },
     "metadata": {},
     "output_type": "display_data"
    }
   ],
   "source": [
    "from IPython.core.display import HTML; from IPython.display import Image, display; display(HTML(\"<style>.container { width:100% !important; }</style>\"))\n",
    "from matplotlib.pyplot import imshow; import numpy as np; from PIL import Image\n",
    "import yaml\n",
    "from fastai.core import Path\n",
    "from image_handling import *\n",
    "from file_maintenance import *\n",
    "from image_graph import get_image_array\n",
    "import config"
   ]
  },
  {
   "cell_type": "markdown",
   "metadata": {},
   "source": [
    "**After the page image has been pre-processed, we need to review the tags and add any letters that were mistagged back to the letters to be tagged**   \n",
    "\n",
    "- `all_components.yaml` contains all connected components found in the image graph (these are the characters found on the page)  \n",
    "- `new_components.yaml` contains the connected components that the model could not classify at an 85% probability or higher"
   ]
  },
  {
   "cell_type": "code",
   "execution_count": 6,
   "metadata": {},
   "outputs": [],
   "source": [
    "yaml_pth = Path('../all_data/lgi_data/latin/pg2/pg2_yaml')"
   ]
  },
  {
   "cell_type": "code",
   "execution_count": 7,
   "metadata": {},
   "outputs": [],
   "source": [
    "with open(yaml_pth/'all_components.yaml', 'rb') as f:\n",
    "    components = yaml.load(f)\n",
    "    \n",
    "with open(yaml_pth/'new_components.yaml', 'rb') as f:\n",
    "    new_components = yaml.load(f)"
   ]
  },
  {
   "cell_type": "code",
   "execution_count": 8,
   "metadata": {},
   "outputs": [
    {
     "data": {
      "text/plain": [
       "(3971, 476)"
      ]
     },
     "execution_count": 8,
     "metadata": {},
     "output_type": "execute_result"
    }
   ],
   "source": [
    "len(components), len(new_components)"
   ]
  },
  {
   "cell_type": "markdown",
   "metadata": {},
   "source": [
    "**Get the image array for the picture and set the global variables used by the helper scripts**"
   ]
  },
  {
   "cell_type": "code",
   "execution_count": 9,
   "metadata": {},
   "outputs": [],
   "source": [
    "im_path = Path('../greek_pages/page_images')\n",
    "pic_name = 'LAT_RDR_PG2.jpeg'\n",
    "imgarr = get_image_array(im_path/pic_name)\n",
    "\n",
    "config.components = components\n",
    "config.new_components = new_components\n",
    "config.letter_dest = Path('../all_data/lgi_data/latin/pg2/pg2_data')\n",
    "config.img_arr = imgarr\n",
    "config.rows, config.cols = config.img_arr.shape"
   ]
  },
  {
   "cell_type": "markdown",
   "metadata": {},
   "source": [
    "**Helper function to show the surrounding word-context for each letter automatically tagged, a box is drawn around the tagged letter**"
   ]
  },
  {
   "cell_type": "code",
   "execution_count": null,
   "metadata": {},
   "outputs": [],
   "source": [
    "def show_component_context(i, mult=1):\n",
    "    lb, ub, lbr, ubr = get_bounds(i)\n",
    "    imcopy = imgarr.copy()\n",
    "    draw_box(lb, ub, lbr, ubr, imcopy)\n",
    "    lb, ub, lbr, ubr = get_bounds(i,context=mult)\n",
    "    imshow(imcopy[lbr:ubr,lb:ub], cmap='gist_gray')"
   ]
  },
  {
   "cell_type": "markdown",
   "metadata": {},
   "source": [
    "**After scanning through each `auto_tags/LETTER` folder, I quickly move incorrectly labeled images to the `mistags` folder, anything that I'm not certain about I review with the following process**"
   ]
  },
  {
   "cell_type": "markdown",
   "metadata": {},
   "source": [
    "**For each image in the folder specified below, I look at the context and decide whether the image has been correctly labeled. This is helpful for smaller characters such as commas, periods and accents**"
   ]
  },
  {
   "cell_type": "code",
   "execution_count": null,
   "metadata": {},
   "outputs": [],
   "source": []
  },
  {
   "cell_type": "code",
   "execution_count": null,
   "metadata": {},
   "outputs": [],
   "source": [
    "# review autotags! this should be more interactive \n",
    "dname = 'y'\n",
    "auto_pth = Path('../all_data/lgi_data/latin/pg2/pg2_data/auto_tags/')\n",
    "letterpth = auto_pth/dname\n",
    "indcs = iter(sorted([int(f.name.split('_')[1 + len(dname.split('_'))]) for f in letterpth.ls() if '.jp' in f.name and dname in f.name]))"
   ]
  },
  {
   "cell_type": "code",
   "execution_count": null,
   "metadata": {},
   "outputs": [],
   "source": [
    "i = next(indcs)\n",
    "print(i)\n",
    "show_component_context(list(config.components.keys()).index(i),mult=1)"
   ]
  },
  {
   "cell_type": "markdown",
   "metadata": {},
   "source": [
    "**After this process, all images in the auto_tag subfolders should be correct, and anything incorrectly labeled should be in `mistags`**  \n",
    "**The following script goes through and moves any component in the mistag folder into `new_components` which contains all letters that need to be tagged**"
   ]
  },
  {
   "cell_type": "code",
   "execution_count": 10,
   "metadata": {},
   "outputs": [
    {
     "ename": "ValueError",
     "evalue": "invalid literal for int() with base 10: 'mistags'",
     "output_type": "error",
     "traceback": [
      "\u001b[0;31m---------------------------------------------------------------------------\u001b[0m",
      "\u001b[0;31mValueError\u001b[0m                                Traceback (most recent call last)",
      "\u001b[0;32m<ipython-input-10-256c56013897>\u001b[0m in \u001b[0;36m<module>\u001b[0;34m()\u001b[0m\n\u001b[1;32m      1\u001b[0m \u001b[0mnew_comlen_pre\u001b[0m \u001b[0;34m=\u001b[0m \u001b[0mlen\u001b[0m\u001b[0;34m(\u001b[0m\u001b[0mconfig\u001b[0m\u001b[0;34m.\u001b[0m\u001b[0mnew_components\u001b[0m\u001b[0;34m)\u001b[0m\u001b[0;34m\u001b[0m\u001b[0m\n\u001b[0;32m----> 2\u001b[0;31m \u001b[0mget_mistags\u001b[0m\u001b[0;34m(\u001b[0m\u001b[0;34m)\u001b[0m\u001b[0;34m\u001b[0m\u001b[0m\n\u001b[0m\u001b[1;32m      3\u001b[0m \u001b[0mnew_comlen_post\u001b[0m \u001b[0;34m=\u001b[0m \u001b[0mlen\u001b[0m\u001b[0;34m(\u001b[0m\u001b[0mconfig\u001b[0m\u001b[0;34m.\u001b[0m\u001b[0mnew_components\u001b[0m\u001b[0;34m)\u001b[0m\u001b[0;34m\u001b[0m\u001b[0m\n",
      "\u001b[0;32m/Users/Nicholasbangs/gh/image_to_text/lib/file_maintenance.py\u001b[0m in \u001b[0;36mget_mistags\u001b[0;34m()\u001b[0m\n\u001b[1;32m    103\u001b[0m \u001b[0;34m\u001b[0m\u001b[0m\n\u001b[1;32m    104\u001b[0m     \u001b[0;32mfor\u001b[0m \u001b[0mf\u001b[0m \u001b[0;32min\u001b[0m \u001b[0mget_all_images\u001b[0m\u001b[0;34m(\u001b[0m\u001b[0mmistag_pth\u001b[0m\u001b[0;34m)\u001b[0m\u001b[0;34m:\u001b[0m\u001b[0;34m\u001b[0m\u001b[0m\n\u001b[0;32m--> 105\u001b[0;31m         \u001b[0mcom\u001b[0m \u001b[0;34m=\u001b[0m \u001b[0mint\u001b[0m\u001b[0;34m(\u001b[0m\u001b[0mf\u001b[0m\u001b[0;34m.\u001b[0m\u001b[0mname\u001b[0m\u001b[0;34m.\u001b[0m\u001b[0msplit\u001b[0m\u001b[0;34m(\u001b[0m\u001b[0;34m'_'\u001b[0m\u001b[0;34m)\u001b[0m\u001b[0;34m[\u001b[0m\u001b[0;34m-\u001b[0m\u001b[0;36m2\u001b[0m\u001b[0;34m]\u001b[0m\u001b[0;34m)\u001b[0m\u001b[0;34m\u001b[0m\u001b[0m\n\u001b[0m\u001b[1;32m    106\u001b[0m         \u001b[0mnew_components\u001b[0m\u001b[0;34m[\u001b[0m\u001b[0mcom\u001b[0m\u001b[0;34m]\u001b[0m \u001b[0;34m=\u001b[0m \u001b[0mcomponents\u001b[0m\u001b[0;34m[\u001b[0m\u001b[0mcom\u001b[0m\u001b[0;34m]\u001b[0m\u001b[0;34m\u001b[0m\u001b[0m\n\u001b[1;32m    107\u001b[0m \u001b[0;34m\u001b[0m\u001b[0m\n",
      "\u001b[0;31mValueError\u001b[0m: invalid literal for int() with base 10: 'mistags'"
     ]
    }
   ],
   "source": [
    "new_comlen_pre = len(config.new_components)\n",
    "get_mistags()\n",
    "new_comlen_post = len(config.new_components)"
   ]
  },
  {
   "cell_type": "code",
   "execution_count": null,
   "metadata": {},
   "outputs": [],
   "source": [
    "??get_mistags()"
   ]
  },
  {
   "cell_type": "code",
   "execution_count": null,
   "metadata": {},
   "outputs": [],
   "source": [
    "print(new_comlen_pre, new_comlen_post)"
   ]
  },
  {
   "cell_type": "markdown",
   "metadata": {},
   "source": [
    "**The updated `new_components` dictionary is stored in the correct yaml file**"
   ]
  },
  {
   "cell_type": "code",
   "execution_count": null,
   "metadata": {},
   "outputs": [],
   "source": [
    "with open(yaml_pth/'new_components.yaml', 'w') as f:\n",
    "    yaml.dump(config.new_components, f)"
   ]
  },
  {
   "cell_type": "code",
   "execution_count": null,
   "metadata": {},
   "outputs": [],
   "source": []
  }
 ],
 "metadata": {
  "kernelspec": {
   "display_name": "Python 3",
   "language": "python",
   "name": "python3"
  },
  "language_info": {
   "codemirror_mode": {
    "name": "ipython",
    "version": 3
   },
   "file_extension": ".py",
   "mimetype": "text/x-python",
   "name": "python",
   "nbconvert_exporter": "python",
   "pygments_lexer": "ipython3",
   "version": "3.6.1"
  }
 },
 "nbformat": 4,
 "nbformat_minor": 2
}

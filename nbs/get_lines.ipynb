{
 "cells": [
  {
   "cell_type": "code",
   "execution_count": 1,
   "metadata": {},
   "outputs": [
    {
     "data": {
      "text/html": [
       "<style>.container { width:100% !important; }</style>"
      ],
      "text/plain": [
       "<IPython.core.display.HTML object>"
      ]
     },
     "metadata": {},
     "output_type": "display_data"
    }
   ],
   "source": [
    "from IPython.core.display import display, HTML\n",
    "display(HTML(\"<style>.container { width:100% !important; }</style>\"))\n",
    "from IPython.display import Image \n",
    "%matplotlib inline\n",
    "%reload_ext autoreload\n",
    "%autoreload 2"
   ]
  },
  {
   "cell_type": "code",
   "execution_count": 2,
   "metadata": {},
   "outputs": [],
   "source": [
    "import config\n",
    "from copy import deepcopy\n",
    "import numpy as np\n",
    "from PIL import Image\n",
    "from imageio import imwrite\n",
    "from fastai.core import Path\n",
    "from fastai.vision import load_learner, open_image, Image\n",
    "from time import time"
   ]
  },
  {
   "cell_type": "code",
   "execution_count": 3,
   "metadata": {},
   "outputs": [],
   "source": [
    "from image_graph import *\n",
    "from line_bounds import *\n",
    "from pred_handler import get_top_preds"
   ]
  },
  {
   "cell_type": "code",
   "execution_count": 4,
   "metadata": {},
   "outputs": [],
   "source": [
    "pic_name = 'GK_RDR_PG3_2'\n",
    "\n",
    "im_path = Path('../greek_pages/page_images/')\n",
    "line_dest = Path('../greek_pages/line_images/')\n",
    "im_name = pic_name + '.jpeg'\n",
    "\n",
    "model_name = 'rn_34.pkl'\n",
    "config.model = load_learner('../models/', model_name)\n",
    "splitter_model = load_learner('../models/', 'split_model.pkl')\n",
    "\n",
    "img_arr = get_image_array(im_path/im_name)\n",
    "imnum = 0"
   ]
  },
  {
   "cell_type": "markdown",
   "metadata": {},
   "source": [
    "<p style=\"font-size:13px;color:#FFB5A4\">Get the rows that are found at the peaks of the pixel sum graph, each peak roughly represents a line split, see find_line_splits for details</p>"
   ]
  },
  {
   "cell_type": "code",
   "execution_count": 5,
   "metadata": {},
   "outputs": [],
   "source": [
    "vchanges = get_line_splits(img_arr)"
   ]
  },
  {
   "cell_type": "code",
   "execution_count": 6,
   "metadata": {},
   "outputs": [
    {
     "data": {
      "text/plain": [
       "[83, 179, 253, 301, 374]"
      ]
     },
     "execution_count": 6,
     "metadata": {},
     "output_type": "execute_result"
    }
   ],
   "source": [
    "vchanges[:5]"
   ]
  },
  {
   "cell_type": "markdown",
   "metadata": {},
   "source": [
    "<p style=\"font-size:13px;color:#FFB5A4\">While there are still multiple linesplits, create a graph of the new approximate line split and create a shortest path from the first column to the last column. Use this path to separate out the top line from the rest of the page, store that in its own image to be processed by the letter parser, and get the linesplits for the rest of the file.</p>\n",
    "<br/>\n",
    "<p style=\"font-size:14px;color:#FFB5A4\">NB: sometimes a linesplit approximation does not contain a linesplit, so we cycle through splits until we find one with a path whose weight is less than 50 (note pixel values are inverted here to fit with shortest path representation)</p>\n",
    "<br/>\n",
    "<p style=\"font-size:13px;color:#FFB5A4\">This method is currently too slow for the final application (a little over 2 minutes for half a page of text - see below), but will work for the first version. Future improvements include parallel processing of the lines and improving the way that the image graphs are creating, since this is the main consumer of time</p>"
   ]
  },
  {
   "cell_type": "code",
   "execution_count": 7,
   "metadata": {},
   "outputs": [],
   "source": [
    "start = time()\n",
    "while len(vchanges) > 1:\n",
    "    i,j = 0,1\n",
    "    top, bottom = vchanges[i], vchanges[j]\n",
    "    sub_array = img_arr[top:bottom,:]\n",
    "    G = get_line_graph(sub_array)\n",
    "    sp_inds, totalweight = get_sp(G)\n",
    "\n",
    "    while totalweight > 50: # the image passed should be high-contrast so white pixels should have a low value\n",
    "        i += 1\n",
    "        j += 1\n",
    "        vchanges = get_line_splits(img_arr)\n",
    "        top, bottom = vchanges[i], vchanges[j]\n",
    "        sub_array = img_arr[top:bottom,:]\n",
    "        G = get_line_graph(sub_array)\n",
    "        sp_inds, totalweight = get_sp(G)\n",
    "\n",
    "    top_im, bot_im = get_split_images(sub_array, sp_inds, top, img_arr)\n",
    "\n",
    "    line_one = np.array(top_im).T\n",
    "    line_two = np.array(bot_im).T\n",
    "    imwrite(line_dest/'line_{}.jpg'.format(imnum),line_one)\n",
    "\n",
    "    img_arr = np.asarray(line_two)\n",
    "    imnum += 1\n",
    "    vchanges = get_line_splits(img_arr)\n",
    "stop = time()"
   ]
  },
  {
   "cell_type": "code",
   "execution_count": 8,
   "metadata": {},
   "outputs": [
    {
     "data": {
      "text/plain": [
       "2.34203603665034"
      ]
     },
     "execution_count": 8,
     "metadata": {},
     "output_type": "execute_result"
    }
   ],
   "source": [
    "(stop - start) / 60"
   ]
  },
  {
   "cell_type": "markdown",
   "metadata": {},
   "source": [
    "<p style=\"font-size:13px;color:#FFB5A4\">This method works very well, the only issue is with accents and diacritics which sometimes appear on the line above instead of their appropriate line. This will be handled in the character parsing of the lines.</p>\n",
    "</br> \n",
    "<p style=\"font-size:13px;color:#FFB5A4\">Here is an example of the first two lines generated by the following image:</p>\n",
    "<img src=\"../greek_pages/page_images/GK_RDR_PG3_2.jpeg\" style=\"width: 400px; height=100px;\" />\n",
    "</br>  \n",
    "</br>\n",
    "<img src=\"../greek_pages/line_images/line_0.jpg\" style=\"width: 700px; height=50px;\" />\n",
    "<img src=\"../greek_pages/line_images/line_1.jpg\" style=\"width: 700px; height=50px;\" />"
   ]
  }
 ],
 "metadata": {
  "kernelspec": {
   "display_name": "Python 3",
   "language": "python",
   "name": "python3"
  },
  "language_info": {
   "codemirror_mode": {
    "name": "ipython",
    "version": 3
   },
   "file_extension": ".py",
   "mimetype": "text/x-python",
   "name": "python",
   "nbconvert_exporter": "python",
   "pygments_lexer": "ipython3",
   "version": "3.6.1"
  }
 },
 "nbformat": 4,
 "nbformat_minor": 2
}

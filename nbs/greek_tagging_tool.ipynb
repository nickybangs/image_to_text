{
 "cells": [
  {
   "cell_type": "code",
   "execution_count": 1,
   "metadata": {},
   "outputs": [
    {
     "data": {
      "text/html": [
       "<style>.container { width:100% !important; }</style>"
      ],
      "text/plain": [
       "<IPython.core.display.HTML object>"
      ]
     },
     "metadata": {},
     "output_type": "display_data"
    }
   ],
   "source": [
    "from IPython.core.display import HTML; display(HTML(\"<style>.container { width:100% !important; }</style>\"))\n",
    "from IPython.display import Image as ipy_im;from IPython.display import display\n",
    "import config\n",
    "import matplotlib.pyplot as plt\n",
    "from imageio import imwrite\n",
    "import yaml\n",
    "from fastai.core import Path\n",
    "from fastai.vision import load_learner, defaults\n",
    "import torch as torch\n",
    "%matplotlib inline\n",
    "%reload_ext autoreload\n",
    "%autoreload 2\n",
    "defaults.device = torch.device('cpu')\n",
    "\n",
    "# helper functions to manage data files and use the widget below\n",
    "from tagging_tool_utils import *\n",
    "from image_graph import *\n",
    "import ipywidgets as widgets\n",
    "letter_mappings = yaml.load(open('../yaml/letter_maps.yaml'))"
   ]
  },
  {
   "cell_type": "markdown",
   "metadata": {},
   "source": [
    "<p style=\"font-size:13px\">This notebook will demonstrate the process I have used to generate my data labels. For more info on the whole data generation process please see the read me.</p>"
   ]
  },
  {
   "cell_type": "code",
   "execution_count": 2,
   "metadata": {},
   "outputs": [],
   "source": [
    "pic_name = 'GK_RDR_PG3_2' # name of the picture to be tagged"
   ]
  },
  {
   "cell_type": "code",
   "execution_count": 3,
   "metadata": {},
   "outputs": [],
   "source": [
    "gr_path = Path('../greek_pages/page_graphs/')\n",
    "im_path = Path('../greek_pages/page_images/')\n",
    "gname = pic_name + '.txt'\n",
    "im_name = pic_name + '.jpeg'\n",
    "\n",
    "model_name = 'rn_34.pkl'\n",
    "config.model = load_learner('../models/', model_name) # classifier for greek and english characters, this model is on my local machine\n",
    "letter_path = Path('../all_data/lgi_data') # location for data, on local machine\n",
    "config.letter_dest = letter_path/'pg3_data'\n",
    "get_letter_dict()\n",
    "\n",
    "config.img_arr = get_image_array(im_path/im_name)"
   ]
  },
  {
   "cell_type": "markdown",
   "metadata": {},
   "source": [
    "<ul style=\"font-size: 14px\">\n",
    "    <li>Get the list of components that weren't tagged automatically (see overview of data generation process). These components represent individual characters, letter parts, or clusters of letters that were connected together in the image.</li>\n",
    "    <li>Set the config variables used by the helper functions above. These act as global variables throughout the different packages</li>\n",
    "</ul>"
   ]
  },
  {
   "cell_type": "code",
   "execution_count": 6,
   "metadata": {},
   "outputs": [],
   "source": [
    "yaml_pth = config.letter_dest/'yaml'\n",
    "with open(yaml_pth/'new_components.yaml', 'rb') as f:\n",
    "    new_components = yaml.load(f)\n",
    "config.components = new_components\n",
    "config.itr = 0\n",
    "config.temp_path = yaml_pth\n",
    "config.rows, config.cols = config.img_arr.shape\n",
    "config.letter_mappings = letter_mappings"
   ]
  },
  {
   "cell_type": "markdown",
   "metadata": {},
   "source": [
    "<p style=\"font-size:13px\">Get the boundaries for the letter component in the image. This will be displayed below and tagged by the user</p>"
   ]
  },
  {
   "cell_type": "code",
   "execution_count": 7,
   "metadata": {},
   "outputs": [],
   "source": [
    "lb, ub, lbr, ubr = get_bounds(config.itr)"
   ]
  },
  {
   "cell_type": "markdown",
   "metadata": {},
   "source": [
    "<ul style=\"font-size: 14px\">\n",
    "    <li>Write the component to a temporary image file (This will later be moved to a permanent file when it is tagged)</li>\n",
    "    <li>Open the image and store it in the image widget's value.</li>\n",
    "</ul>"
   ]
  },
  {
   "cell_type": "code",
   "execution_count": 8,
   "metadata": {},
   "outputs": [],
   "source": [
    "imwrite(config.temp_path/'temp_letter.jpg', config.img_arr[lbr:ubr,lb:ub])\n",
    "file = open(config.temp_path/\"temp_letter.jpg\", \"rb\")\n",
    "image = file.read()\n",
    "config.image = widgets.Image(\n",
    "    value=image,\n",
    "    format='png',\n",
    "    width=300,\n",
    "    height=400,\n",
    ")"
   ]
  },
  {
   "cell_type": "markdown",
   "metadata": {},
   "source": [
    "<ul style=\"font-size: 14px\">\n",
    "    <li>letter_button: Update Letter, moves the temp image to a permanent image with the correct label (labeled by directory)</li>\n",
    "    <li>skip_button: Skips to the next letter, only here for convenience, generally no components are skipped even if they are just noise</li>\n",
    "    <li>context_button: Get Context, shows the surrounding characters to help identify the character if not immediately clear</li>\n",
    "    <li>reset_context_button: Reset Context, returns the image to it's original form</li>\n",
    "    <li>output: output used to display for the widget</li>\n",
    "    <li>letter_options: A list of suggested options for the tag, once the first model has been trained this is filled with the top 3 predicted letters</li>\n",
    "    <li>textbox: A textbox to enter the image label</li>\n",
    "    <li>Each button gets an on_click function, defined in tagging_tool_utils</li>\n",
    "</ul>"
   ]
  },
  {
   "cell_type": "code",
   "execution_count": null,
   "metadata": {},
   "outputs": [],
   "source": [
    "letter_button = widgets.Button(description='Update Letter')\n",
    "skip_button = widgets.Button(description='Skip')\n",
    "context_button = widgets.Button(description='Get Context')\n",
    "reset_context_button = widgets.Button(description='Reset Context')\n",
    "config.output = widgets.Output()\n",
    "config.letter_options = widgets.Dropdown(options=[''])\n",
    "config.letter_options.options =  [''] + get_top_preds(config.temp_path/\"temp_letter.jpg\")\n",
    "config.textbox = widgets.Text()\n",
    "    \n",
    "letter_button.on_click(update_letter)\n",
    "skip_button.on_click(skip)\n",
    "context_button.on_click(get_context)\n",
    "reset_context_button.on_click(reset_context)\n",
    "# display\n",
    "widgets.VBox([config.image,config.textbox,config.letter_options,letter_button,skip_button,context_button,reset_context_button,config.output])"
   ]
  },
  {
   "cell_type": "markdown",
   "metadata": {},
   "source": [
    "<p style=\"font-size: 14px\">Jupyter won't load the widget in github, so here is an image of what it looks like in practice</p>\n",
    "<img src=\"../imgs/widget_img.png\" style=\"width: 700px; height=50px;\" />"
   ]
  },
  {
   "cell_type": "markdown",
   "metadata": {},
   "source": [
    "<p style=\"font-size:14px\">After all the images have been tagged, the new data and labels are reviewed and then sent to the GPU instance to update the letter classifier. See the overview in the readme and the model_training notebook for details</p>"
   ]
  },
  {
   "cell_type": "code",
   "execution_count": null,
   "metadata": {},
   "outputs": [],
   "source": [
    "yaml.dump(letter_mappings,open('nbs/letter_maps.yaml','w')) # maps for greek letters and various characters to suitable directory names"
   ]
  }
 ],
 "metadata": {
  "kernelspec": {
   "display_name": "Python 3",
   "language": "python",
   "name": "python3"
  },
  "language_info": {
   "codemirror_mode": {
    "name": "ipython",
    "version": 3
   },
   "file_extension": ".py",
   "mimetype": "text/x-python",
   "name": "python",
   "nbconvert_exporter": "python",
   "pygments_lexer": "ipython3",
   "version": "3.6.1"
  }
 },
 "nbformat": 4,
 "nbformat_minor": 2
}

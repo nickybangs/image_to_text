{
 "cells": [
  {
   "cell_type": "code",
   "execution_count": 1,
   "metadata": {},
   "outputs": [
    {
     "data": {
      "text/html": [
       "<style>.container { width:100% !important; }</style>"
      ],
      "text/plain": [
       "<IPython.core.display.HTML object>"
      ]
     },
     "metadata": {},
     "output_type": "display_data"
    }
   ],
   "source": [
    "from IPython.core.display import HTML\n",
    "from IPython.display import Image, display\n",
    "display(HTML(\"<style>.container { width:100% !important; }</style>\"))\n",
    "import config\n",
    "from matplotlib.pyplot import imshow\n",
    "import matplotlib.pyplot as plt\n",
    "from imageio import imwrite\n",
    "import yaml\n",
    "from fastai.core import Path\n",
    "from fastai.vision import load_learner, defaults\n",
    "import torch as torch\n",
    "%matplotlib inline\n",
    "%reload_ext autoreload\n",
    "%autoreload 2\n",
    "defaults.device = torch.device('cpu')\n",
    "\n",
    "\n",
    "from tagging_tool_utils import *\n",
    "from image_graph import *\n",
    "import ipywidgets as widgets\n",
    "letter_mappings = yaml.load(open('../yaml/letter_maps.yaml'))"
   ]
  },
  {
   "cell_type": "code",
   "execution_count": 2,
   "metadata": {},
   "outputs": [],
   "source": [
    "pic_name = 'GK_RDR_PG3_2'"
   ]
  },
  {
   "cell_type": "code",
   "execution_count": 3,
   "metadata": {},
   "outputs": [],
   "source": [
    "gr_path = Path('../greek_pages/page_graphs/')\n",
    "im_path = Path('../greek_pages/page_images/')\n",
    "gname = pic_name + '.txt'\n",
    "im_name = pic_name + '.jpeg'\n",
    "\n",
    "model_name = 'rn_34.pkl'\n",
    "config.model = load_learner('../models/', model_name) # classifier for greek and english characters, this model is on my local machine\n",
    "letter_path = Path('../all_data/lgi_data') # location for data, on local machine\n",
    "config.letter_dest = letter_path/'pg3_data'\n",
    "get_letter_dict()\n",
    "\n",
    "config.img_arr = get_image_array(im_path/im_name)"
   ]
  },
  {
   "cell_type": "code",
   "execution_count": 6,
   "metadata": {},
   "outputs": [],
   "source": [
    "yaml_pth = config.letter_dest/'yaml'\n",
    "with open(yaml_pth/'new_components.yaml', 'rb') as f:\n",
    "    new_components = yaml.load(f)\n",
    "config.components = new_components\n",
    "config.itr = 0\n",
    "config.temp_path = yaml_pth\n",
    "config.rows, config.cols = config.img_arr.shape\n",
    "config.letter_mappings = letter_mappings"
   ]
  },
  {
   "cell_type": "code",
   "execution_count": 7,
   "metadata": {},
   "outputs": [],
   "source": [
    "lb, ub, lbr, ubr = get_bounds(config.itr)"
   ]
  },
  {
   "cell_type": "code",
   "execution_count": 8,
   "metadata": {},
   "outputs": [],
   "source": [
    "imwrite(config.temp_path/'temp_letter.jpg', config.img_arr[lbr:ubr,lb:ub])\n",
    "file = open(config.temp_path/\"temp_letter.jpg\", \"rb\")\n",
    "image = file.read()\n",
    "config.image = widgets.Image(\n",
    "    value=image,\n",
    "    format='png',\n",
    "    width=300,\n",
    "    height=400,\n",
    ")"
   ]
  },
  {
   "cell_type": "code",
   "execution_count": null,
   "metadata": {},
   "outputs": [],
   "source": [
    "letter_button = widgets.Button(description='Update Letter')\n",
    "skip_button = widgets.Button(description='Skip')\n",
    "context_button = widgets.Button(description='Get Context')\n",
    "reset_context_button = widgets.Button(description='Reset Context')\n",
    "config.output = widgets.Output()\n",
    "config.letter_options = widgets.Dropdown(options=[''])\n",
    "config.letter_options.options =  [''] + get_top_preds(config.temp_path/\"temp_letter.jpg\")\n",
    "config.textbox = widgets.Text()\n",
    "    \n",
    "letter_button.on_click(update_letter)\n",
    "skip_button.on_click(skip)\n",
    "context_button.on_click(get_context)\n",
    "reset_context_button.on_click(reset_context)\n",
    "# display\n",
    "widgets.VBox([config.image,config.textbox,config.letter_options,letter_button,skip_button,context_button,reset_context_button,config.output])"
   ]
  },
  {
   "cell_type": "markdown",
   "metadata": {},
   "source": [
    "Jupyter won't load the widget so here is an image of what it looks like:\n",
    "<img src=\"../imgs/widget_img.png\" style=\"width: 700px; height=50px;\" />"
   ]
  },
  {
   "cell_type": "markdown",
   "metadata": {},
   "source": [
    "The widget displays the character image, and at the bottom prints out the top 3 predictions along with their probabilities. The first input box is a text input for typing the correct label. The second is a dropdown with the top 3 predictions. There is an option to skip, although there are no scenarios where you would do this in practice, just for convenience. Get Context expands the images so you can see the surrounding characters, and Reset Context returns the context back to just the character image"
   ]
  },
  {
   "cell_type": "code",
   "execution_count": null,
   "metadata": {},
   "outputs": [],
   "source": [
    "yaml.dump(letter_mappings,open('nbs/letter_maps.yaml','w'))"
   ]
  }
 ],
 "metadata": {
  "kernelspec": {
   "display_name": "Python 3",
   "language": "python",
   "name": "python3"
  },
  "language_info": {
   "codemirror_mode": {
    "name": "ipython",
    "version": 3
   },
   "file_extension": ".py",
   "mimetype": "text/x-python",
   "name": "python",
   "nbconvert_exporter": "python",
   "pygments_lexer": "ipython3",
   "version": "3.6.1"
  }
 },
 "nbformat": 4,
 "nbformat_minor": 2
}

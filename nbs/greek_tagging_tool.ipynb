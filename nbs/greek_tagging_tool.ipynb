{
 "cells": [
  {
   "cell_type": "code",
   "execution_count": 1,
   "metadata": {},
   "outputs": [
    {
     "data": {
      "text/html": [
       "<style>.container { width:100% !important; }</style>"
      ],
      "text/plain": [
       "<IPython.core.display.HTML object>"
      ]
     },
     "metadata": {},
     "output_type": "display_data"
    }
   ],
   "source": [
    "from ipywidgets import interact, interactive, fixed, interact_manual;  import ipywidgets as widgets\n",
    "from IPython.core.display import HTML; from IPython.display import Image, display; display(HTML(\"<style>.container { width:100% !important; }</style>\"))\n",
    "from collections import defaultdict; from matplotlib.pyplot import imshow; import numpy as np; from PIL import Image\n",
    "import matplotlib.pyplot as plt;from collections import defaultdict;import scipy.misc;from imageio import imwrite\n",
    "import os;import yaml;import re; from fastai.vision import load_learner, open_image, defaults; import torch as torch; from fastai.core import Path\n",
    "from image_graph import *; letter_mappings = yaml.load(open('nbs/letter_maps.yaml'))\n",
    "%matplotlib inline\n",
    "%reload_ext autoreload\n",
    "%autoreload 2\n",
    "defaults.device = torch.device('cpu')"
   ]
  },
  {
   "cell_type": "code",
   "execution_count": 2,
   "metadata": {},
   "outputs": [],
   "source": [
    "from tagging_tool_utils import *"
   ]
  },
  {
   "cell_type": "code",
   "execution_count": null,
   "metadata": {},
   "outputs": [],
   "source": [
    "pic_name = 'GK_RDR_PG3_2'"
   ]
  },
  {
   "cell_type": "code",
   "execution_count": 3,
   "metadata": {},
   "outputs": [],
   "source": [
    "gr_path = Path('greek_pages/page_graphs/')\n",
    "im_path = Path('greek_pages/page_images/')\n",
    "gname = pic_name + '.txt'\n",
    "im_name = pic_name + '.jpeg'\n",
    "\n",
    "model_name = 'rn_34.pkl'\n",
    "config.model = load_learner('models/', model_name)\n",
    "letter_path = Path('lgi_data')\n",
    "config.letter_dest = letter_path/'new_lgi_data'\n",
    "get_letter_dict()\n",
    "\n",
    "config.img_arr = get_image_array(im_path/im_name)"
   ]
  },
  {
   "cell_type": "code",
   "execution_count": 8,
   "metadata": {},
   "outputs": [],
   "source": [
    "yaml_pth = Path('lgi_data/')\n",
    "with open(yaml_pth/'new_components.yaml', 'rb') as f:\n",
    "    new_components = yaml.load(f)\n",
    "config.components = new_components\n",
    "config.itr = 0\n",
    "config.temp_path = yaml_pth\n",
    "config.rows, config.cols = config.img_arr.shape\n",
    "config.letter_mappings = letter_mappings"
   ]
  },
  {
   "cell_type": "code",
   "execution_count": 37,
   "metadata": {},
   "outputs": [
    {
     "data": {
      "text/plain": [
       "0.6"
      ]
     },
     "execution_count": 37,
     "metadata": {},
     "output_type": "execute_result"
    }
   ],
   "source": [
    "config.itr / len(config.components)"
   ]
  },
  {
   "cell_type": "code",
   "execution_count": 33,
   "metadata": {},
   "outputs": [],
   "source": [
    "config.itr -= 1"
   ]
  },
  {
   "cell_type": "code",
   "execution_count": 34,
   "metadata": {},
   "outputs": [],
   "source": [
    "\n",
    "lb, ub, lbr, ubr = get_bounds(config.itr)"
   ]
  },
  {
   "cell_type": "code",
   "execution_count": 35,
   "metadata": {},
   "outputs": [],
   "source": [
    "imwrite(config.temp_path/'temp_letter.jpg', config.img_arr[lbr:ubr,lb:ub])\n",
    "file = open(config.temp_path/\"temp_letter.jpg\", \"rb\")\n",
    "image = file.read()\n",
    "config.image = widgets.Image(\n",
    "    value=image,\n",
    "    format='png',\n",
    "    width=300,\n",
    "    height=400,\n",
    ")"
   ]
  },
  {
   "cell_type": "code",
   "execution_count": 36,
   "metadata": {},
   "outputs": [
    {
     "data": {
      "application/vnd.jupyter.widget-view+json": {
       "model_id": "8ed969e62dcb4f528d8357dc73ea7207",
       "version_major": 2,
       "version_minor": 0
      },
      "text/plain": [
       "VBox(children=(Image(value=b'\\xff\\xd8\\xff\\xe0\\x00\\x10JFIF\\x00\\x01\\x01\\x00\\x00\\x01\\x00\\x01\\x00\\x00\\xff\\xdb\\x00C…"
      ]
     },
     "metadata": {},
     "output_type": "display_data"
    }
   ],
   "source": [
    "letter_button = widgets.Button(description='Update Letter')\n",
    "skip_button = widgets.Button(description='Skip')\n",
    "context_button = widgets.Button(description='Get Context')\n",
    "reset_context_button = widgets.Button(description='Reset Context')\n",
    "config.output = widgets.Output()\n",
    "config.letter_options = widgets.Dropdown(options=[''])\n",
    "config.letter_options.options =  [''] + get_top_preds(config.temp_path/\"temp_letter.jpg\")\n",
    "config.textbox = widgets.Text()\n",
    "    \n",
    "letter_button.on_click(update_letter)\n",
    "skip_button.on_click(skip)\n",
    "context_button.on_click(get_context)\n",
    "reset_context_button.on_click(reset_context)\n",
    "# display\n",
    "widgets.VBox([config.image,config.textbox,config.letter_options,letter_button,skip_button,context_button,reset_context_button,config.output])"
   ]
  },
  {
   "cell_type": "code",
   "execution_count": 32,
   "metadata": {},
   "outputs": [],
   "source": [
    "??config.model.pred_batch"
   ]
  },
  {
   "cell_type": "code",
   "execution_count": 53,
   "metadata": {},
   "outputs": [],
   "source": [
    "yaml.dump(letter_mappings,open('nbs/letter_maps.yaml','w'))"
   ]
  }
 ],
 "metadata": {
  "kernelspec": {
   "display_name": "Python 3",
   "language": "python",
   "name": "python3"
  },
  "language_info": {
   "codemirror_mode": {
    "name": "ipython",
    "version": 3
   },
   "file_extension": ".py",
   "mimetype": "text/x-python",
   "name": "python",
   "nbconvert_exporter": "python",
   "pygments_lexer": "ipython3",
   "version": "3.6.1"
  }
 },
 "nbformat": 4,
 "nbformat_minor": 2
}
